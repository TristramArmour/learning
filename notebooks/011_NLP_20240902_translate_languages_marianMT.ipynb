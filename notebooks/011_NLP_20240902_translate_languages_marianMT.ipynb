{
 "cells": [
  {
   "cell_type": "markdown",
   "metadata": {},
   "source": [
    "# Translating languages using MarianMT\n",
    "\n",
    "https://www.kdnuggets.com/how-to-translate-languages-with-marianmt-and-hugging-face-transformers"
   ]
  },
  {
   "cell_type": "code",
   "execution_count": 1,
   "metadata": {},
   "outputs": [
    {
     "data": {
      "application/vnd.jupyter.widget-view+json": {
       "model_id": "fc756f99b66b4c7a935f5115f7789da6",
       "version_major": 2,
       "version_minor": 0
      },
      "text/plain": [
       "Downloading source.spm:   0%|          | 0.00/778k [00:00<?, ?B/s]"
      ]
     },
     "metadata": {},
     "output_type": "display_data"
    },
    {
     "name": "stderr",
     "output_type": "stream",
     "text": [
      "c:\\Users\\TristramArmour\\anaconda3\\envs\\rtx202309\\lib\\site-packages\\huggingface_hub\\file_download.py:137: UserWarning: `huggingface_hub` cache-system uses symlinks by default to efficiently store duplicated files but your machine does not support them in C:\\Users\\TristramArmour\\.cache\\huggingface\\hub. Caching files will still work but in a degraded version that might require more space on your disk. This warning can be disabled by setting the `HF_HUB_DISABLE_SYMLINKS_WARNING` environment variable. For more details, see https://huggingface.co/docs/huggingface_hub/how-to-cache#limitations.\n",
      "To support symlinks on Windows, you either need to activate Developer Mode or to run Python as an administrator. In order to see activate developer mode, see this article: https://docs.microsoft.com/en-us/windows/apps/get-started/enable-your-device-for-development\n",
      "  warnings.warn(message)\n"
     ]
    },
    {
     "data": {
      "application/vnd.jupyter.widget-view+json": {
       "model_id": "e07e4cef6e0648e697efb38362198c2c",
       "version_major": 2,
       "version_minor": 0
      },
      "text/plain": [
       "Downloading target.spm:   0%|          | 0.00/802k [00:00<?, ?B/s]"
      ]
     },
     "metadata": {},
     "output_type": "display_data"
    },
    {
     "data": {
      "application/vnd.jupyter.widget-view+json": {
       "model_id": "618dab8d4d3744beaecbdf13031c57e6",
       "version_major": 2,
       "version_minor": 0
      },
      "text/plain": [
       "Downloading vocab.json:   0%|          | 0.00/1.34M [00:00<?, ?B/s]"
      ]
     },
     "metadata": {},
     "output_type": "display_data"
    },
    {
     "data": {
      "application/vnd.jupyter.widget-view+json": {
       "model_id": "7e2adfeeeec94508a5e39673ae199ed8",
       "version_major": 2,
       "version_minor": 0
      },
      "text/plain": [
       "Downloading tokenizer_config.json:   0%|          | 0.00/42.0 [00:00<?, ?B/s]"
      ]
     },
     "metadata": {},
     "output_type": "display_data"
    },
    {
     "data": {
      "application/vnd.jupyter.widget-view+json": {
       "model_id": "9ac707e9a6244f5ca63d6ba408c40922",
       "version_major": 2,
       "version_minor": 0
      },
      "text/plain": [
       "Downloading config.json:   0%|          | 0.00/1.42k [00:00<?, ?B/s]"
      ]
     },
     "metadata": {},
     "output_type": "display_data"
    },
    {
     "name": "stderr",
     "output_type": "stream",
     "text": [
      "c:\\Users\\TristramArmour\\anaconda3\\envs\\rtx202309\\lib\\site-packages\\transformers\\models\\marian\\tokenization_marian.py:194: UserWarning: Recommended: pip install sacremoses.\n",
      "  warnings.warn(\"Recommended: pip install sacremoses.\")\n"
     ]
    },
    {
     "data": {
      "application/vnd.jupyter.widget-view+json": {
       "model_id": "d106bf6eeaf74441b40644b675ba48c6",
       "version_major": 2,
       "version_minor": 0
      },
      "text/plain": [
       "Downloading pytorch_model.bin:   0%|          | 0.00/301M [00:00<?, ?B/s]"
      ]
     },
     "metadata": {},
     "output_type": "display_data"
    },
    {
     "data": {
      "application/vnd.jupyter.widget-view+json": {
       "model_id": "2f7e0c2c878c402d83809006200acefa",
       "version_major": 2,
       "version_minor": 0
      },
      "text/plain": [
       "Downloading generation_config.json:   0%|          | 0.00/293 [00:00<?, ?B/s]"
      ]
     },
     "metadata": {},
     "output_type": "display_data"
    }
   ],
   "source": [
    "from transformers import MarianMTModel, MarianTokenizer\n",
    "\n",
    "# Specify the model name\n",
    "model_name = \"Helsinki-NLP/opus-mt-en-fr\"\n",
    "\n",
    "# Load the tokenizer and model\n",
    "tokenizer = MarianTokenizer.from_pretrained(model_name)\n",
    "model = MarianMTModel.from_pretrained(model_name)"
   ]
  },
  {
   "cell_type": "code",
   "execution_count": 6,
   "metadata": {},
   "outputs": [],
   "source": [
    "src_text = [\"The enigmatic fox darted through the dense forest, leaving only a whisper of its presence.\",\n",
    "\"She meticulously cataloged every shell she found along the windswept shore.\",\n",
    "\"A symphony of crickets filled the tranquil night, their song ebbing and flowing like waves.\",\n",
    "\"The artist's brushstrokes danced across the canvas, capturing the vibrant hues of the sunset.\",\n",
    "\"With a sudden jolt, the old train lurched forward, its wheels squealing against the rusty tracks.\",\n",
    "\"The mathematician pondered the complexities of the theorem, her mind racing with infinite possibilities.\",\n",
    "\"As the storm raged on, the lighthouse stood resolute, its beacon slicing through the darkness.\",\n",
    "\"The aroma of freshly baked bread wafted through the quaint bakery, inviting customers inside.\",\n",
    "\"His adventurous spirit compelled him to scale the treacherous peak despite the howling winds.\",\n",
    "\"The politician's speech was filled with rhetoric but lacked substantial content.\",\n",
    "\"She gazed at the ornate chandelier, its crystals casting a kaleidoscope of colors on the walls.\",\n",
    "\"A subtle melancholy settled over the city as the rain began to fall, tapping gently on windows.\",\n",
    "\"The detective inspected the crime scene with meticulous attention to detail, searching for any overlooked clues.\",\n",
    "\"The ancient manuscript, bound in worn leather, held secrets that had been forgotten for centuries.\",\n",
    "\"He navigated the bustling marketplace, weaving between vendors shouting their prices.\",\n",
    "\"The gardener's hands were covered in soil, a testament to her hours spent nurturing the rose bushes.\",\n",
    "\"A raven perched on the gnarled branch, its beady eyes watching every movement below.\",\n",
    "\"The scientist marveled at the newly discovered species, its iridescent scales shimmering under the microscope.\",\n",
    "\"An air of anticipation hung in the theater as the audience awaited the curtain's rise.\",\n",
    "\"The pianist's fingers flew across the keys, producing a melody that resonated with emotion and grace.\"]"
   ]
  },
  {
   "cell_type": "code",
   "execution_count": 7,
   "metadata": {},
   "outputs": [],
   "source": [
    "# Define the source text\n",
    "#src_text = [\"this is a sentence in English that we want to translate to French\"]"
   ]
  },
  {
   "cell_type": "code",
   "execution_count": 8,
   "metadata": {},
   "outputs": [],
   "source": [
    "# Tokenize the source text\n",
    "inputs = tokenizer(src_text, return_tensors=\"pt\", padding=True)"
   ]
  },
  {
   "cell_type": "code",
   "execution_count": 10,
   "metadata": {},
   "outputs": [],
   "source": [
    "# Generate the translation\n",
    "translated = model.generate(**inputs)"
   ]
  },
  {
   "cell_type": "code",
   "execution_count": 11,
   "metadata": {},
   "outputs": [
    {
     "name": "stdout",
     "output_type": "stream",
     "text": [
      "[\"Le renard énigmatique traversa la forêt dense, ne laissant qu'un murmure de sa présence.\", \"Elle a méticuleusement catalogué toutes les coquilles qu'elle a trouvées le long de la rive balayée par le vent.\", \"Une symphonie de crickets remplissait la nuit tranquille, leur chant s'affaissait et flottait comme des vagues.\", \"Les coups de pinceau de l'artiste dansaient sur la toile, captant les teintes vibrantes du coucher du soleil.\", \"Avec une secousse soudaine, l'ancien train s'élança vers l'avant, ses roues s'élancent contre les rails rouillés.\", 'Le mathématicien a réfléchi à la complexité du théorème, son esprit courant avec des possibilités infinies.', \"Au fur et à mesure que la tempête faisait rage, le phare était résolu, sa balise sillonnant l'obscurité.\", \"L'arôme de pain fraîchement cuit a balancé à travers la boulangerie pittoresque, invitant les clients à l'intérieur.\", \"Son esprit aventureux l'obligea à gravir le sommet perfide malgré les vents hurlants.\", 'Le discours du politicien était rempli de rhétorique mais manquait de contenu substantiel.', 'Elle regardait le lustre orné, ses cristaux mêlant un kaléidoscope de couleurs sur les murs.', \"Une mélancolie subtile s'installa au-dessus de la ville alors que la pluie commença à tomber, tapant doucement sur les fenêtres.\", \"L'inspecteur a inspecté la scène du crime avec une attention méticuleuse au détail, à la recherche d'indices négligés.\", \"L'ancien manuscrit, en cuir usé, contenait des secrets oubliés depuis des siècles.\", 'Il a navigué sur le marché animé, tisser entre vendeurs criant leurs prix.', 'Les mains du jardinier étaient couvertes de terre, ce qui témoigne de ses heures passées à nourrir les rosiers.', 'Un corbeau perché sur la branche gênée, ses yeux percés regardant chaque mouvement en dessous.', \"Le scientifique s'émerveillait de l'espèce nouvellement découverte, ses écailles irisés scintillent sous le microscope.\", \"Un air d'anticipation s'est accroché au théâtre alors que le public attendait la montée du rideau.\", \"Les doigts du pianiste volèrent à travers les clés, produisant une mélodie qui résonnait d'émotion et de grâce.\"]\n"
     ]
    }
   ],
   "source": [
    "# Decode the translated text\n",
    "tgt_text = [tokenizer.decode(t, skip_special_tokens=True) for t in translated]\n",
    "print(tgt_text)"
   ]
  },
  {
   "cell_type": "markdown",
   "metadata": {},
   "source": [
    "Let's try Japanese"
   ]
  },
  {
   "cell_type": "code",
   "execution_count": 13,
   "metadata": {},
   "outputs": [
    {
     "data": {
      "application/vnd.jupyter.widget-view+json": {
       "model_id": "6d55a040900c4e6895730e1f1e59d91a",
       "version_major": 2,
       "version_minor": 0
      },
      "text/plain": [
       "Downloading source.spm:   0%|          | 0.00/509k [00:00<?, ?B/s]"
      ]
     },
     "metadata": {},
     "output_type": "display_data"
    },
    {
     "data": {
      "application/vnd.jupyter.widget-view+json": {
       "model_id": "c4d65e0164134a6c9810262cec9a4060",
       "version_major": 2,
       "version_minor": 0
      },
      "text/plain": [
       "Downloading target.spm:   0%|          | 0.00/1.02M [00:00<?, ?B/s]"
      ]
     },
     "metadata": {},
     "output_type": "display_data"
    },
    {
     "data": {
      "application/vnd.jupyter.widget-view+json": {
       "model_id": "6d47e10af89a4e2198adc7d182c7bb9b",
       "version_major": 2,
       "version_minor": 0
      },
      "text/plain": [
       "Downloading vocab.json:   0%|          | 0.00/1.64M [00:00<?, ?B/s]"
      ]
     },
     "metadata": {},
     "output_type": "display_data"
    },
    {
     "data": {
      "application/vnd.jupyter.widget-view+json": {
       "model_id": "aa721a863fdf4103a42e5cbab41a2c17",
       "version_major": 2,
       "version_minor": 0
      },
      "text/plain": [
       "Downloading tokenizer_config.json:   0%|          | 0.00/43.0 [00:00<?, ?B/s]"
      ]
     },
     "metadata": {},
     "output_type": "display_data"
    },
    {
     "data": {
      "application/vnd.jupyter.widget-view+json": {
       "model_id": "b491280043a542efbdc798a73e5200e7",
       "version_major": 2,
       "version_minor": 0
      },
      "text/plain": [
       "Downloading config.json:   0%|          | 0.00/1.38k [00:00<?, ?B/s]"
      ]
     },
     "metadata": {},
     "output_type": "display_data"
    },
    {
     "name": "stderr",
     "output_type": "stream",
     "text": [
      "c:\\Users\\TristramArmour\\anaconda3\\envs\\rtx202309\\lib\\site-packages\\transformers\\models\\marian\\tokenization_marian.py:194: UserWarning: Recommended: pip install sacremoses.\n",
      "  warnings.warn(\"Recommended: pip install sacremoses.\")\n"
     ]
    },
    {
     "data": {
      "application/vnd.jupyter.widget-view+json": {
       "model_id": "df099a73d0254eaaa94f0776621d084f",
       "version_major": 2,
       "version_minor": 0
      },
      "text/plain": [
       "Downloading pytorch_model.bin:   0%|          | 0.00/274M [00:00<?, ?B/s]"
      ]
     },
     "metadata": {},
     "output_type": "display_data"
    },
    {
     "data": {
      "application/vnd.jupyter.widget-view+json": {
       "model_id": "de24a140962144c9afc2de0ce3b22d58",
       "version_major": 2,
       "version_minor": 0
      },
      "text/plain": [
       "Downloading generation_config.json:   0%|          | 0.00/293 [00:00<?, ?B/s]"
      ]
     },
     "metadata": {},
     "output_type": "display_data"
    }
   ],
   "source": [
    "# Specify the model name\n",
    "model_name = \"Helsinki-NLP/opus-mt-en-jap\"\n",
    "\n",
    "# Load the tokenizer and model\n",
    "tokenizer = MarianTokenizer.from_pretrained(model_name)\n",
    "model = MarianMTModel.from_pretrained(model_name)"
   ]
  },
  {
   "cell_type": "code",
   "execution_count": 17,
   "metadata": {},
   "outputs": [],
   "source": [
    "src_text = [\"My name is Jack Sparrow and I am going to be the king of the pirates!\"]"
   ]
  },
  {
   "cell_type": "code",
   "execution_count": 18,
   "metadata": {},
   "outputs": [],
   "source": [
    "# Tokenize the source text\n",
    "inputs = tokenizer(src_text, return_tensors=\"pt\", padding=True)\n",
    "# Generate the translation\n",
    "translated = model.generate(**inputs)\n",
    "# Decode the translated text\n",
    "tgt_text = [tokenizer.decode(t, skip_special_tokens=True) for t in translated]"
   ]
  },
  {
   "cell_type": "code",
   "execution_count": 19,
   "metadata": {},
   "outputs": [
    {
     "data": {
      "text/plain": [
       "['わが 名 は レイム と い い, \" わたし は 彼 ら の 王 と な り, その は し ため の 王 と な る \" と い う.']"
      ]
     },
     "execution_count": 19,
     "metadata": {},
     "output_type": "execute_result"
    }
   ],
   "source": [
    "tgt_text"
   ]
  },
  {
   "cell_type": "code",
   "execution_count": null,
   "metadata": {},
   "outputs": [],
   "source": []
  }
 ],
 "metadata": {
  "kernelspec": {
   "display_name": "rtx202309",
   "language": "python",
   "name": "python3"
  },
  "language_info": {
   "codemirror_mode": {
    "name": "ipython",
    "version": 3
   },
   "file_extension": ".py",
   "mimetype": "text/x-python",
   "name": "python",
   "nbconvert_exporter": "python",
   "pygments_lexer": "ipython3",
   "version": "3.8.18"
  }
 },
 "nbformat": 4,
 "nbformat_minor": 2
}
