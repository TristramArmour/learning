{
 "cells": [
  {
   "cell_type": "markdown",
   "metadata": {},
   "source": [
    "# Note on solving systems of equations in Python"
   ]
  },
  {
   "cell_type": "code",
   "execution_count": null,
   "metadata": {},
   "outputs": [],
   "source": []
  },
  {
   "cell_type": "code",
   "execution_count": 2,
   "metadata": {},
   "outputs": [],
   "source": [
    "def equations(vars):\n",
    "    x, y = vars\n",
    "    eq1 = x**2 + y**2 - 4\n",
    "    eq2 = x**2 - y - 1\n",
    "    return [eq1, eq2]\n",
    "\n",
    "initial_guesses = [1, 1]  # Initial guesses for x and y\n"
   ]
  },
  {
   "cell_type": "code",
   "execution_count": 3,
   "metadata": {},
   "outputs": [
    {
     "name": "stdout",
     "output_type": "stream",
     "text": [
      "Solution to the system: [1.51748991 1.30277564]\n"
     ]
    }
   ],
   "source": [
    "from scipy.optimize import fsolve\n",
    "# Solve the system\n",
    "solution = fsolve(equations, initial_guesses)\n",
    "print(\"Solution to the system:\", solution)"
   ]
  },
  {
   "cell_type": "code",
   "execution_count": 7,
   "metadata": {},
   "outputs": [
    {
     "name": "stdout",
     "output_type": "stream",
     "text": [
      "Solved values are x = 1.52 and y = 1.30\n",
      "Verification:\n",
      "f1(x, y) = -0.00\n",
      "f2(x, y) = 0.00\n"
     ]
    }
   ],
   "source": [
    "# Print the results\n",
    "x_sol, y_sol = solution\n",
    "print(f\"Solved values are x = {x_sol:.2f} and y = {y_sol:.2f}\")\n",
    "\n",
    "# Verify the solution by substituting it back into the equations\n",
    "print(\"Verification:\")\n",
    "print(f\"f1(x, y) = {x_sol**2 + y_sol**2 - 4:.2f}\")\n",
    "print(f\"f2(x, y) = {x_sol**2 - y_sol - 1:.2f}\")"
   ]
  },
  {
   "cell_type": "markdown",
   "metadata": {},
   "source": [
    "Visualise"
   ]
  },
  {
   "cell_type": "code",
   "execution_count": 8,
   "metadata": {},
   "outputs": [
    {
     "name": "stderr",
     "output_type": "stream",
     "text": [
      "C:\\Users\\TristramArmour\\AppData\\Local\\Temp\\ipykernel_24404\\2177547790.py:15: UserWarning: The following kwargs were not used by contour: 'label'\n",
      "  plt.contour(X, Y, Z1, levels=[0], colors='blue', label='x^2 + y^2 - 4')\n",
      "C:\\Users\\TristramArmour\\AppData\\Local\\Temp\\ipykernel_24404\\2177547790.py:16: UserWarning: The following kwargs were not used by contour: 'label'\n",
      "  plt.contour(X, Y, Z2, levels=[0], colors='red', label='x^2 - y - 1')\n"
     ]
    },
    {
     "data": {
      "image/png": "[encoded data removed]",
      "text/plain": [
       "<Figure size 576x432 with 1 Axes>"
      ]
     },
     "metadata": {
      "needs_background": "light"
     },
     "output_type": "display_data"
    }
   ],
   "source": [
    "import numpy as np\n",
    "import matplotlib.pyplot as plt\n",
    "\n",
    "# Create a grid of x and y values\n",
    "x = np.linspace(-3, 3, 400)\n",
    "y = np.linspace(-3, 3, 400)\n",
    "X, Y = np.meshgrid(x, y)\n",
    "\n",
    "# Define the equations for plotting\n",
    "Z1 = X**2 + Y**2 - 4\n",
    "Z2 = X**2 - Y - 1\n",
    "\n",
    "# Plot the contours\n",
    "plt.figure(figsize=(8, 6))\n",
    "plt.contour(X, Y, Z1, levels=[0], colors='blue', label='x^2 + y^2 - 4')\n",
    "plt.contour(X, Y, Z2, levels=[0], colors='red', label='x^2 - y - 1')\n",
    "plt.plot(x_sol, y_sol, 'go', label='Solution')\n",
    "plt.xlabel('x')\n",
    "plt.ylabel('y')\n",
    "plt.title('2D Visualization of Nonlinear Equations')\n",
    "plt.legend()\n",
    "plt.grid(True)\n",
    "plt.show()"
   ]
  },
  {
   "cell_type": "markdown",
   "metadata": {},
   "source": [
    "My own example from a Olympiad question"
   ]
  },
  {
   "cell_type": "code",
   "execution_count": 10,
   "metadata": {},
   "outputs": [],
   "source": [
    "def equations(x):\n",
    "    eq1 = 2**x + x - 5\n",
    "    return eq1\n",
    "\n",
    "initial_guesses = 1  # Initial guesses for x and y"
   ]
  },
  {
   "cell_type": "code",
   "execution_count": 11,
   "metadata": {},
   "outputs": [
    {
     "name": "stdout",
     "output_type": "stream",
     "text": [
      "Solution to the system: [1.71562073]\n"
     ]
    }
   ],
   "source": [
    "from scipy.optimize import fsolve\n",
    "# Solve the system\n",
    "solution = fsolve(equations, initial_guesses)\n",
    "print(\"Solution to the system:\", solution)"
   ]
  },
  {
   "cell_type": "code",
   "execution_count": 12,
   "metadata": {},
   "outputs": [
    {
     "name": "stdout",
     "output_type": "stream",
     "text": [
      "(1.9140590951699923+0j)\n"
     ]
    }
   ],
   "source": [
    "from scipy.special import lambertw\n",
    "print(lambertw(5) / np.log(2))"
   ]
  },
  {
   "cell_type": "code",
   "execution_count": null,
   "metadata": {},
   "outputs": [],
   "source": []
  }
 ],
 "metadata": {
  "kernelspec": {
   "display_name": "python-gis",
   "language": "python",
   "name": "python3"
  },
  "language_info": {
   "codemirror_mode": {
    "name": "ipython",
    "version": 3
   },
   "file_extension": ".py",
   "mimetype": "text/x-python",
   "name": "python",
   "nbconvert_exporter": "python",
   "pygments_lexer": "ipython3",
   "version": "3.8.18"
  }
 },
 "nbformat": 4,
 "nbformat_minor": 2
}
