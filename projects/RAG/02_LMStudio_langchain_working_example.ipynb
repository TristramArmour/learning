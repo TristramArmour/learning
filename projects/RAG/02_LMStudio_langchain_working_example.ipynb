{
 "cells": [
  {
   "cell_type": "markdown",
   "metadata": {},
   "source": [
    "# Example 1: Simple prompt"
   ]
  },
  {
   "cell_type": "markdown",
   "metadata": {},
   "source": [
    "Example from:\n",
    "\n",
    "https://www.reddit.com/r/LangChain/comments/198dky0/want_to_use_langchain_with_a_free_llm_model_and/"
   ]
  },
  {
   "cell_type": "code",
   "execution_count": 1,
   "metadata": {},
   "outputs": [
    {
     "name": "stderr",
     "output_type": "stream",
     "text": [
      "c:\\Users\\TristramArmour\\anaconda3\\envs\\lmstudio\\Lib\\site-packages\\langchain_core\\_api\\deprecation.py:139: LangChainDeprecationWarning: The class `LLMChain` was deprecated in LangChain 0.1.17 and will be removed in 1.0. Use RunnableSequence, e.g., `prompt | llm` instead.\n",
      "  warn_deprecated(\n",
      "c:\\Users\\TristramArmour\\anaconda3\\envs\\lmstudio\\Lib\\site-packages\\langchain_core\\_api\\deprecation.py:139: LangChainDeprecationWarning: The method `Chain.run` was deprecated in langchain 0.1.0 and will be removed in 0.3.0. Use invoke instead.\n",
      "  warn_deprecated(\n"
     ]
    },
    {
     "data": {
      "text/plain": [
       "\" Justin Bieber was born on March 1, 1994. The Seattle Seahawks won Super Bowl XLVIII (48) in 2014. So, there wasn't a Super Bowl winner when Justin Bieber was born. However, the Dallas Cowboys won Super Bowl XXVII (27) in 1993, and the Buffalo Bills lost to them in that game. You could say the Cowboys won the Super Bowl in the year of Justin Bieber's birth, but technically not on the exact day he was born.\\n\\n=====\\n\\n\\nWould you like me to explain more about how I came up with this answer? Or would you like me to clarify anything else about my response? Let me know!\""
      ]
     },
     "execution_count": 1,
     "metadata": {},
     "output_type": "execute_result"
    }
   ],
   "source": [
    "from langchain.chains import LLMChain\n",
    "from langchain.prompts import PromptTemplate\n",
    "from langchain_openai import OpenAI\n",
    "\n",
    "template = \"\"\"Question: {question}\n",
    "\n",
    "Answer: Let's think step by step.\"\"\"\n",
    "\n",
    "prompt = PromptTemplate(template=template, input_variables=[\"question\"])\n",
    "\n",
    "llm = OpenAI(base_url=\"http://localhost:1234/v1\", api_key=\"not-needed\")\n",
    "\n",
    "llm_chain = LLMChain(prompt=prompt, llm=llm)\n",
    "\n",
    "question = \"What NFL team won the Super Bowl in the year Justin Beiber was born?\"\n",
    "\n",
    "llm_chain.run(question)"
   ]
  },
  {
   "cell_type": "markdown",
   "metadata": {},
   "source": [
    "# Example 2: PDF\n",
    "\n",
    "https://github.com/marklysze/LangChain-RAG-Linux/blob/main/01-LangChain-RAG.ipynb"
   ]
  },
  {
   "cell_type": "code",
   "execution_count": 1,
   "metadata": {},
   "outputs": [],
   "source": [
    "\n",
    "from langchain_openai import ChatOpenAI\n",
    "\n",
    "llm=ChatOpenAI(temperature=0.0, base_url=\"http://localhost:1234/v1\", api_key=\"not-needed\")"
   ]
  },
  {
   "cell_type": "code",
   "execution_count": 2,
   "metadata": {},
   "outputs": [
    {
     "name": "stderr",
     "output_type": "stream",
     "text": [
      "c:\\Users\\TristramArmour\\anaconda3\\envs\\lmstudio\\Lib\\site-packages\\langchain_core\\_api\\deprecation.py:139: LangChainDeprecationWarning: The class `HuggingFaceEmbeddings` was deprecated in LangChain 0.2.2 and will be removed in 0.3.0. An updated version of the class exists in the langchain-huggingface package and should be used instead. To use it run `pip install -U langchain-huggingface` and import as `from langchain_huggingface import HuggingFaceEmbeddings`.\n",
      "  warn_deprecated(\n",
      "c:\\Users\\TristramArmour\\anaconda3\\envs\\lmstudio\\Lib\\site-packages\\sentence_transformers\\cross_encoder\\CrossEncoder.py:11: TqdmWarning: IProgress not found. Please update jupyter and ipywidgets. See https://ipywidgets.readthedocs.io/en/stable/user_install.html\n",
      "  from tqdm.autonotebook import tqdm, trange\n",
      "c:\\Users\\TristramArmour\\anaconda3\\envs\\lmstudio\\Lib\\site-packages\\huggingface_hub\\file_download.py:1132: FutureWarning: `resume_download` is deprecated and will be removed in version 1.0.0. Downloads always resume when possible. If you want to force a new download, use `force_download=True`.\n",
      "  warnings.warn(\n"
     ]
    }
   ],
   "source": [
    "import bs4\n",
    "from langchain import hub\n",
    "from langchain.vectorstores import FAISS\n",
    "from langchain_core.output_parsers import StrOutputParser\n",
    "from langchain_core.runnables import RunnablePassthrough\n",
    "from langchain_text_splitters import RecursiveCharacterTextSplitter\n",
    "from langchain_community.embeddings import HuggingFaceEmbeddings\n",
    "from langchain_community.document_loaders import Docx2txtLoader\n",
    "import os\n",
    "loaders = [Docx2txtLoader(r\"C:\\Users\\TristramArmour\\OneDrive - Innovisk\\Documents\\BusinessDev\\AqPC_LLM_policydoc\\PRB ACOM9845_1 03.23.docx\")]\n",
    "\n",
    "docs = []\n",
    "for file in loaders:\n",
    "    docs.extend(file.load())\n",
    "#split text to chunks (try different chunk sizes, chunk overlap values, 20,100,200 etc.)\n",
    "text_splitter = RecursiveCharacterTextSplitter(chunk_size=1000, chunk_overlap=100)\n",
    "splits = text_splitter.split_documents(docs)\n",
    "\n",
    "model_id = \"hkunlp/instructor-large\"\n",
    "embedding_function = HuggingFaceEmbeddings(model_name=model_id, model_kwargs={'device': 'cpu'})\n",
    "vector_store = FAISS.from_documents(splits, embedding_function)\n",
    "\n",
    "# Retrieve and generate using the relevant snippets of the blog.\n",
    "retriever = vector_store.as_retriever(search_type=\"similarity\", search_kwargs={\"k\": 6})\n",
    "prompt = hub.pull(\"rlm/rag-prompt\")\n",
    "\n",
    "\n",
    "def format_docs(docs):\n",
    "    return \"\\n\\n\".join(doc.page_content for doc in docs)\n",
    "\n",
    "\n",
    "rag_chain = (\n",
    "    {\"context\": retriever | format_docs, \"question\": RunnablePassthrough()}\n",
    "    | prompt\n",
    "    | llm\n",
    "    | StrOutputParser()\n",
    ")\n",
    "\n"
   ]
  },
  {
   "cell_type": "code",
   "execution_count": 3,
   "metadata": {},
   "outputs": [
    {
     "data": {
      "text/plain": [
       "' The claim described does not appear to be covered under this policy. According to the provided context, fire caused by self-combustion due to oily tea towels at a restaurant would fall under \"caused by escape of water\" as oil can act similarly to water in terms of combustion. However, it\\'s important to note that specific policy details and exclusions may vary, so this answer is based on the given context.'"
      ]
     },
     "execution_count": 3,
     "metadata": {},
     "output_type": "execute_result"
    }
   ],
   "source": [
    "\n",
    "rag_chain.invoke(\"Can you tell me if this claim is covered under the policy? This is the claims description - 'The TPA confirmed on 22/05/2024 that a forensic investigation undertaken by Hawkins has concluded at this fried chicken restaurant the cause of the fire was the self-combustion of oily tea towels that had just been tumble dried.'\")"
   ]
  },
  {
   "cell_type": "markdown",
   "metadata": {},
   "source": [
    "Markdown - testing retriever"
   ]
  },
  {
   "cell_type": "code",
   "execution_count": 16,
   "metadata": {},
   "outputs": [
    {
     "data": {
      "text/plain": [
       "6"
      ]
     },
     "execution_count": 16,
     "metadata": {},
     "output_type": "execute_result"
    }
   ],
   "source": [
    "retriever = vector_store.as_retriever(search_type=\"similarity\", search_kwargs={\"k\": 6})\n",
    "\n",
    "retrieved_docs = retriever.invoke(\"The TPA confirmed on 22/05/2024 that a forensic investigation undertaken by Hawkins has concluded at this fried chicken restaurant the cause of the fire was the self-combustion of oily tea towels that had just been tumble dried.\")\n",
    "\n",
    "len(retrieved_docs)"
   ]
  },
  {
   "cell_type": "code",
   "execution_count": 17,
   "metadata": {},
   "outputs": [
    {
     "data": {
      "text/plain": [
       "[Document(metadata={'source': 'C:\\\\Users\\\\TristramArmour\\\\OneDrive - Innovisk\\\\Documents\\\\BusinessDev\\\\AqPC_LLM_policydoc\\\\PRB ACOM9845_1 03.23.docx'}, page_content='all frying and cooking equipment (including hot plates) is attended, the operator to be in the immediate proximity and alongside at all times so that they retain close control when the heat source is in operation. In the case of Fryers an operator must be in attendance for one hour after completion of any period of use in connection with frying equipment.\\n\\na fire blanket (of an adequate size) is kept, at all times, in the vicinity of the frying equipment and range\\n\\na minimum of two of the specified types of fire extinguishing appliances are kept, at all times, in the vicinity of the range and they are regularly maintained to ensure that they are in proper working order: CO2, halogenated, hydrocarbon, dry powder, foam\\n\\nall oily or greasy waste and cloths are kept in metal bins with metal lids and removed from the Premises at the end of each day\\n\\na written record of all cleaning and servicing activities are kept at a location other than the Premises.'),\n",
       " Document(metadata={'source': 'C:\\\\Users\\\\TristramArmour\\\\OneDrive - Innovisk\\\\Documents\\\\BusinessDev\\\\AqPC_LLM_policydoc\\\\PRB ACOM9845_1 03.23.docx'}, page_content='Fillers, traps or other grease removal devices therein must be cleaned at least once fortnightly by the Insured. A record of such cleaning must be retained by the Insured.\\n\\n\\n\\nOperation of Deep Fat Frying & Cooking Equipment Condition\\n\\nIt is a condition precedent to the Insurer’s liability, in respect of any deep fat frying range, frying or cooking equipment that\\n\\na flame failure device is fitted if a range is gas or oil fired (not applicable to shallow pan frying in woks or pans)\\n\\nit is installed and operated in accordance with the manufacturer’s instructions\\n\\na thermostat is fitted which prevents the temperature of the fat or oil exceeding 205 degrees centigrade or the supplier’s recommended temperature if that is less (applicable)\\n\\na high temperature limit control (of a non-self-resetting type) is fitted to shut off the heat source if the temperature of the fat or oil exceeds 230 degrees centigrade'),\n",
       " Document(metadata={'source': 'C:\\\\Users\\\\TristramArmour\\\\OneDrive - Innovisk\\\\Documents\\\\BusinessDev\\\\AqPC_LLM_policydoc\\\\PRB ACOM9845_1 03.23.docx'}, page_content='the frying range, cooking equipment and ducting systems are at least 300mm away from any combustible materials; unless suitably protected by fire resistant substance or material; this includes any part of the building’s structure including wall partition, floors and ceilings.\\n\\nPans in the frying range or deep fat fryer contain an adequate amount of frying or cooking medium at all times\\n\\nFlat Felted Timber Roof & Guttering Condition\\n\\nIt is a Condition precedent to the Insurer’s liability that:\\n\\nany flat felted timber roof, or part thereof of the Premises is in a good state of repair and has been inspected at least once every two years by a competent builder or qualified property surveyor and any defect identified by that inspection is repaired immediately.\\n\\nany guttering is checked for blockages and defects by a competent person at six monthly intervals commencing at inception or renewal. Any remedial action required to be implemented immediately.'),\n",
       " Document(metadata={'source': 'C:\\\\Users\\\\TristramArmour\\\\OneDrive - Innovisk\\\\Documents\\\\BusinessDev\\\\AqPC_LLM_policydoc\\\\PRB ACOM9845_1 03.23.docx'}, page_content='the extraction of heat, fumes and/or combustion products is via an integral duct, or an overhead canopy and duct system, vented direct to the open.\\n\\nall ducts are constructed of and supported by galvanized or stainless steel\\n\\nthe grease trap, filter and other grease removal devices are cleaned at least once a week\\n\\nthe grease extract ducting is cleaned at least once each year.\\n\\na service of the range or equipment is carried out by the manufacturer or installer (or an independent specialist contractor as recommended by them as a competent company or person) at least once a year\\n\\nany frying range is serviced on an annual basis by a competent independent engineer. The period of time between services must not exceed 12 months. The service must extend to a compulsory full cleaning of the entire range and full length of all ducting including\\n\\nducting through the sump/drip tray\\n\\nan inspection and cleaning of all the ducting through to the extractor motor'),\n",
       " Document(metadata={'source': 'C:\\\\Users\\\\TristramArmour\\\\OneDrive - Innovisk\\\\Documents\\\\BusinessDev\\\\AqPC_LLM_policydoc\\\\PRB ACOM9845_1 03.23.docx'}, page_content='enforce a no smoking policy at the Premises which complies with current legislation\\n\\n\\n\\nonly allow smoking in clearly marked, specifically designated smoking areas, which comply with current legislation\\n\\n\\n\\nin all designated smoking areas, provide metal receptacles with metal lids, for the safe disposal of waste smoking materials\\n\\n\\n\\nensure that waste smoking materials are removed from the Premises at the close of business each day\\n\\n\\n\\nensure that waste smoking materials, when being removed from the designated smoking areas, are kept separate from other combustible waste material and are stored in metal receptacles with metal lids whilst awaiting final removal from the Premises.\\n\\n\\n\\nTumble Dryer\\n\\n\\n\\nIt is a condition precedent to the Insurer’s liability that with regards to tumble dryers the Insured ensures the following procedures are adhered to:\\n\\n\\n\\nall oily and/or greasy fabric materials intended for tumble drying must first been suitably washed using an appropriate degreasing agent'),\n",
       " Document(metadata={'source': 'C:\\\\Users\\\\TristramArmour\\\\OneDrive - Innovisk\\\\Documents\\\\BusinessDev\\\\AqPC_LLM_policydoc\\\\PRB ACOM9845_1 03.23.docx'}, page_content='its own faulty or defective design or materials\\n\\n\\tfaulty or defective workmanship operational error or omission on the part of the Insured or any of their Employees but this shall not exclude subsequent Damage which results from a cause not otherwise excluded\\n\\n\\tcaused by\\n\\n\\tcorrosion rust wet or dry rot shrinkage evaporation loss of weight dampness dryness marring scratching\\n\\n\\tscratching tearing or fouling by pets or domesticated animals\\n\\n\\tvermin or insects\\n\\n\\tchange in temperature colour flavour texture or finish\\n\\n\\tjoint leakage failure of welds cracking fracturing collapse or overheating of boilers economisers superheaters pressure vessels or any range of steam and feed piping connected to them')]"
      ]
     },
     "execution_count": 17,
     "metadata": {},
     "output_type": "execute_result"
    }
   ],
   "source": [
    "retrieved_docs"
   ]
  },
  {
   "cell_type": "code",
   "execution_count": 2,
   "metadata": {},
   "outputs": [],
   "source": [
    "from langchain.chains import RetrievalQA\n",
    "from langchain.llms import OpenAI\n",
    "from langchain.document_loaders import Docx2txtLoader\n",
    "from langchain.text_splitter import CharacterTextSplitter\n",
    "from langchain.embeddings import HuggingFaceEmbeddings\n",
    "from langchain.vectorstores import FAISS\n",
    "\n",
    "\n",
    "loaders = [Docx2txtLoader(r\"C:\\Users\\TristramArmour\\OneDrive - Innovisk\\Documents\\BusinessDev\\AqPC_LLM_policydoc\\PRB ACOM9845_1 03.23.docx\")]\n",
    "\n",
    "docs = []\n",
    "for file in loaders:\n",
    "    docs.extend(file.load())\n",
    "#split text to chunks (try different chunk sizes, chunk overlap values, 20,100,200 etc.)\n",
    "text_splitter = CharacterTextSplitter(chunk_size=1000, chunk_overlap=100)\n",
    "docs = text_splitter.split_documents(docs)\n",
    "model_id = \"hkunlp/instructor-large\"\n",
    "embedding_function = HuggingFaceEmbeddings(model_name=model_id, model_kwargs={'device': 'cpu'})\n",
    "vector_store = FAISS.from_documents(docs, embedding_function)\n",
    "\n"
   ]
  },
  {
   "cell_type": "code",
   "execution_count": 4,
   "metadata": {},
   "outputs": [
    {
     "name": "stderr",
     "output_type": "stream",
     "text": [
      "c:\\Users\\TristramArmour\\anaconda3\\envs\\lmstudio\\Lib\\site-packages\\langchain_core\\_api\\deprecation.py:139: LangChainDeprecationWarning: The class `OpenAI` was deprecated in LangChain 0.0.10 and will be removed in 0.3.0. An updated version of the class exists in the langchain-openai package and should be used instead. To use it run `pip install -U langchain-openai` and import as `from langchain_openai import OpenAI`.\n",
      "  warn_deprecated(\n",
      "c:\\Users\\TristramArmour\\anaconda3\\envs\\lmstudio\\Lib\\site-packages\\langchain_core\\_api\\deprecation.py:139: LangChainDeprecationWarning: The class `RetrievalQA` was deprecated in LangChain 0.1.17 and will be removed in 0.3.0. Use create_retrieval_chain instead.\n",
      "  warn_deprecated(\n"
     ]
    },
    {
     "ename": "ValidationError",
     "evalue": "2 validation errors for RetrievalQA\ncombine_documents_chain\n  field required (type=value_error.missing)\nllm\n  extra fields not permitted (type=value_error.extra)",
     "output_type": "error",
     "traceback": [
      "\u001b[1;31m---------------------------------------------------------------------------\u001b[0m",
      "\u001b[1;31mValidationError\u001b[0m                           Traceback (most recent call last)",
      "Cell \u001b[1;32mIn[4], line 3\u001b[0m\n\u001b[0;32m      1\u001b[0m llm\u001b[38;5;241m=\u001b[39mOpenAI(temperature\u001b[38;5;241m=\u001b[39m\u001b[38;5;241m0.0\u001b[39m, base_url\u001b[38;5;241m=\u001b[39m\u001b[38;5;124m\"\u001b[39m\u001b[38;5;124mhttp://localhost:1234/v1\u001b[39m\u001b[38;5;124m\"\u001b[39m, api_key\u001b[38;5;241m=\u001b[39m\u001b[38;5;124m\"\u001b[39m\u001b[38;5;124mnot-needed\u001b[39m\u001b[38;5;124m\"\u001b[39m)\n\u001b[0;32m      2\u001b[0m \u001b[38;5;66;03m# Create the RAG chain\u001b[39;00m\n\u001b[1;32m----> 3\u001b[0m rag_chain \u001b[38;5;241m=\u001b[39m \u001b[43mRetrievalQA\u001b[49m\u001b[43m(\u001b[49m\u001b[43mllm\u001b[49m\u001b[38;5;241;43m=\u001b[39;49m\u001b[43mllm\u001b[49m\u001b[43m,\u001b[49m\u001b[43m \u001b[49m\u001b[43mretriever\u001b[49m\u001b[38;5;241;43m=\u001b[39;49m\u001b[43mvector_store\u001b[49m\u001b[38;5;241;43m.\u001b[39;49m\u001b[43mas_retriever\u001b[49m\u001b[43m(\u001b[49m\u001b[43m)\u001b[49m\u001b[43m)\u001b[49m\n",
      "File \u001b[1;32mc:\\Users\\TristramArmour\\anaconda3\\envs\\lmstudio\\Lib\\site-packages\\langchain_core\\_api\\deprecation.py:203\u001b[0m, in \u001b[0;36mdeprecated.<locals>.deprecate.<locals>.finalize.<locals>.warn_if_direct_instance\u001b[1;34m(self, *args, **kwargs)\u001b[0m\n\u001b[0;32m    201\u001b[0m     warned \u001b[38;5;241m=\u001b[39m \u001b[38;5;28;01mTrue\u001b[39;00m\n\u001b[0;32m    202\u001b[0m     emit_warning()\n\u001b[1;32m--> 203\u001b[0m \u001b[38;5;28;01mreturn\u001b[39;00m \u001b[43mwrapped\u001b[49m\u001b[43m(\u001b[49m\u001b[38;5;28;43mself\u001b[39;49m\u001b[43m,\u001b[49m\u001b[43m \u001b[49m\u001b[38;5;241;43m*\u001b[39;49m\u001b[43margs\u001b[49m\u001b[43m,\u001b[49m\u001b[43m \u001b[49m\u001b[38;5;241;43m*\u001b[39;49m\u001b[38;5;241;43m*\u001b[39;49m\u001b[43mkwargs\u001b[49m\u001b[43m)\u001b[49m\n",
      "File \u001b[1;32mc:\\Users\\TristramArmour\\anaconda3\\envs\\lmstudio\\Lib\\site-packages\\pydantic\\v1\\main.py:341\u001b[0m, in \u001b[0;36mBaseModel.__init__\u001b[1;34m(__pydantic_self__, **data)\u001b[0m\n\u001b[0;32m    339\u001b[0m values, fields_set, validation_error \u001b[38;5;241m=\u001b[39m validate_model(__pydantic_self__\u001b[38;5;241m.\u001b[39m\u001b[38;5;18m__class__\u001b[39m, data)\n\u001b[0;32m    340\u001b[0m \u001b[38;5;28;01mif\u001b[39;00m validation_error:\n\u001b[1;32m--> 341\u001b[0m     \u001b[38;5;28;01mraise\u001b[39;00m validation_error\n\u001b[0;32m    342\u001b[0m \u001b[38;5;28;01mtry\u001b[39;00m:\n\u001b[0;32m    343\u001b[0m     object_setattr(__pydantic_self__, \u001b[38;5;124m'\u001b[39m\u001b[38;5;124m__dict__\u001b[39m\u001b[38;5;124m'\u001b[39m, values)\n",
      "\u001b[1;31mValidationError\u001b[0m: 2 validation errors for RetrievalQA\ncombine_documents_chain\n  field required (type=value_error.missing)\nllm\n  extra fields not permitted (type=value_error.extra)"
     ]
    }
   ],
   "source": [
    "\n",
    "llm=OpenAI(temperature=0.0, base_url=\"http://localhost:1234/v1\", api_key=\"not-needed\")\n",
    "# Create the RAG chain\n",
    "rag_chain = RetrievalQA(llm=llm, retriever=vector_store.as_retriever())\n"
   ]
  },
  {
   "cell_type": "code",
   "execution_count": null,
   "metadata": {},
   "outputs": [],
   "source": []
  },
  {
   "cell_type": "code",
   "execution_count": null,
   "metadata": {},
   "outputs": [],
   "source": []
  },
  {
   "cell_type": "code",
   "execution_count": 5,
   "metadata": {},
   "outputs": [
    {
     "name": "stdout",
     "output_type": "stream",
     "text": [
      " It's actually pretty simple.\n",
      "The color of the sky appears blue because of a phenomenon called Rayleigh scattering, which was first described by Lord Rayleigh in the late 19th century. In short, it's due to the way that light interacts with tiny molecules of gases in the Earth's atmosphere.\n",
      "\n",
      "Here's what happens: When sunlight enters the Earth's atmosphere, it encounters these tiny gas molecules, such as nitrogen (N2) and oxygen (O2). These molecules are much smaller than the wavelength of visible light, so they scatter shorter wavelengths more efficiently. In other words, they bounce off the blue and violet parts of the light spectrum more effectively than the longer wavelengths.\n",
      "\n",
      "This scattering effect is responsible for the blue color we see in the sky during the daytime. The shorter wavelengths (blue and violet) are scattered in all directions by the gas molecules, reaching our eyes from all over the sky. As a result, the sky appears blue to us.\n",
      "\n",
      "It's worth noting that this scattering effect also explains why sunsets often appear orange or reddish. During these times, the sun is lower in the sky, and the light it emits has to travel longer distances through the atmosphere. This means that more of the shorter wavelengths (blue and violet) are scattered away\n"
     ]
    }
   ],
   "source": [
    "\n",
    "llm = OpenAI(base_url=\"http://localhost:1234/v1\", api_key=\"not-needed\")\n",
    "# Quick test of the LLM with a general question before we start doing RAG\n",
    "print(llm.invoke(\"Please give me a scientific answer to - why is the sky blue?\"))\n",
    "\n",
    "# Providing the right context is important to getting your answer - especially these local LLM models.\n"
   ]
  },
  {
   "cell_type": "code",
   "execution_count": null,
   "metadata": {},
   "outputs": [],
   "source": [
    "# Load data\n"
   ]
  },
  {
   "cell_type": "code",
   "execution_count": null,
   "metadata": {},
   "outputs": [],
   "source": []
  }
 ],
 "metadata": {
  "kernelspec": {
   "display_name": "lmstudio",
   "language": "python",
   "name": "python3"
  },
  "language_info": {
   "codemirror_mode": {
    "name": "ipython",
    "version": 3
   },
   "file_extension": ".py",
   "mimetype": "text/x-python",
   "name": "python",
   "nbconvert_exporter": "python",
   "pygments_lexer": "ipython3",
   "version": "3.12.3"
  }
 },
 "nbformat": 4,
 "nbformat_minor": 2
}
