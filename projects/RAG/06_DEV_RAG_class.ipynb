{
 "cells": [
  {
   "cell_type": "markdown",
   "metadata": {},
   "source": [
    "# RAG class"
   ]
  },
  {
   "cell_type": "code",
   "execution_count": 3,
   "metadata": {},
   "outputs": [
    {
     "data": {
      "text/plain": [
       "['C:\\\\workspace\\\\APIKEY_personal.ini']"
      ]
     },
     "execution_count": 3,
     "metadata": {},
     "output_type": "execute_result"
    }
   ],
   "source": [
    "import openai\n",
    "import pandas as pd\n",
    "from langchain_openai import AzureChatOpenAI\n",
    "import os\n",
    "from configparser import ConfigParser\n",
    "import shutil\n",
    "c = ConfigParser()\n",
    "c.read(r\"C:\\workspace\\APIKEY_personal.ini\")"
   ]
  },
  {
   "cell_type": "code",
   "execution_count": 16,
   "metadata": {},
   "outputs": [],
   "source": [
    "rag_config = {\n",
    "    \"api_key\":c[\"AZURE_4o-mini\"][\"API_KEY\"],\n",
    "    \"api_base\":c[\"AZURE_4o-mini\"][\"OPENAI_API_BASE\"],\n",
    "    \"api_version\":c[\"AZURE_4o-mini\"][\"OPENAI_API_VERSION\"],\n",
    "    \"deployment\": c[\"AZURE_4o-mini\"][\"CHATGPT_MODEL\"],\n",
    "    \"langsmith_key\": c[\"KEY\"][\"LANGSMITH_PERSONAL\"]\n",
    "}"
   ]
  },
  {
   "cell_type": "code",
   "execution_count": 17,
   "metadata": {},
   "outputs": [],
   "source": [
    "from langchain_community.embeddings import HuggingFaceEmbeddings\n",
    "from langchain_openai import AzureChatOpenAI,OpenAI\n",
    "from langchain.document_loaders import WebBaseLoader\n",
    "from langchain.text_splitter import RecursiveCharacterTextSplitter\n",
    "from langchain.vectorstores import Chroma\n",
    "from langchain import hub\n",
    "from langchain_core.runnables import RunnablePassthrough\n",
    "from langchain.schema import StrOutputParser\n",
    "import shutil\n",
    "\n",
    "class RAG:\n",
    "    def __init__(self,config=None,chromadb_folder=\"./chroma_db\") -> None:\n",
    "        # save config settings to connect to Azure 4o-mini\n",
    "        self.config = config\n",
    "        # chromadb path\n",
    "        self.chromadb_folder = chromadb_folder\n",
    "        ###### some constants\n",
    "        # chunksize\n",
    "        self.chunksize = 1000\n",
    "        # overlap\n",
    "        self.overlap = 200\n",
    "        # embedding model\n",
    "        self.model_id = \"BAAI/bge-small-en-v1.5\"\n",
    "\n",
    "        os.environ[\"OPENAI_API_KEY\"] = self.config[\"api_key\"]\n",
    "        os.environ[\"OPENAI_API_VERSION\"] = self.config[\"api_version\"]\n",
    "        os.environ[\"AZURE_OPENAI_ENDPOINT\"] = self.config[\"api_base\"]\n",
    "\n",
    "        # create embedding function\n",
    "        self.createEmbeddingFunction()\n",
    "\n",
    "    @staticmethod\n",
    "    def format_docs(docs):\n",
    "        return \"\\n\\n\".join(doc.page_content for doc in docs)\n",
    "\n",
    "    def add_website(self,webpath):\n",
    "        # load website\n",
    "        loader = WebBaseLoader(web_paths=(webpath,))\n",
    "        loader.requests_kwargs = {\"verify\": False}\n",
    "        docs = loader.load()\n",
    "        # split the text into chuncks\n",
    "        text_splitter = RecursiveCharacterTextSplitter(chunk_size=self.chunksize, chunk_overlap=self.overlap)\n",
    "        splits = text_splitter.split_documents(docs)\n",
    "        self.vectorstore = Chroma.from_documents(\n",
    "            documents=splits, embedding=self.embedding_function)\n",
    "        self.retriever = self.vectorstore.as_retriever()\n",
    "\n",
    "    def add_docx(self,filepath):\n",
    "        pass\n",
    "\n",
    "    def createEmbeddingFunction(self):\n",
    "        self.embedding_function = HuggingFaceEmbeddings(model_name=self.model_id, model_kwargs={'device': 'cpu'})\n",
    "\n",
    "\n",
    "    def clearDatabase(self):\n",
    "        # remove the existing RAG database\n",
    "        shutil.rmtree(self.chromadb_folder)\n",
    "\n",
    "    def setupLLM(self,local=False):\n",
    "        self.prompt = hub.pull(\"rlm/rag-prompt\",api_key=self.config[\"langsmith_key\"])\n",
    "\n",
    "        if local == True:\n",
    "            self.llm = OpenAI(base_url=\"http://localhost:1234/v1\", api_key=\"not-needed\")\n",
    "        else:\n",
    "            self.llm = AzureChatOpenAI(\n",
    "                deployment_name=self.config[\"deployment\"],\n",
    "                model_name=self.config[\"deployment\"], \n",
    "                temperature=0,\n",
    "                max_tokens=None,\n",
    "                timeout=None,\n",
    "                max_retries=2)\n",
    "\n",
    "        self.rag_chain = (\n",
    "            {\"context\": self.retriever | self.format_docs, \"question\": RunnablePassthrough()}\n",
    "            | self.prompt\n",
    "            | self.llm\n",
    "            | StrOutputParser())\n",
    "    \n",
    "    def invoke(self,question):\n",
    "        print(\"invoking...\")\n",
    "        result = self.rag_chain.invoke(question)\n",
    "        print(result)\n",
    "        print(\"Complete\")\n",
    "        return result\n"
   ]
  },
  {
   "cell_type": "code",
   "execution_count": 18,
   "metadata": {},
   "outputs": [
    {
     "name": "stderr",
     "output_type": "stream",
     "text": [
      "c:\\Users\\TristramArmour\\anaconda3\\envs\\learning\\Lib\\site-packages\\huggingface_hub\\file_download.py:1142: FutureWarning: `resume_download` is deprecated and will be removed in version 1.0.0. Downloads always resume when possible. If you want to force a new download, use `force_download=True`.\n",
      "  warnings.warn(\n"
     ]
    }
   ],
   "source": [
    "r = RAG(config=rag_config)"
   ]
  },
  {
   "cell_type": "code",
   "execution_count": 19,
   "metadata": {},
   "outputs": [
    {
     "name": "stderr",
     "output_type": "stream",
     "text": [
      "c:\\Users\\TristramArmour\\anaconda3\\envs\\learning\\Lib\\site-packages\\urllib3\\connectionpool.py:1099: InsecureRequestWarning: Unverified HTTPS request is being made to host 'devlog.tublian.com'. Adding certificate verification is strongly advised. See: https://urllib3.readthedocs.io/en/latest/advanced-usage.html#tls-warnings\n",
      "  warnings.warn(\n"
     ]
    }
   ],
   "source": [
    "r.add_website(\"https://devlog.tublian.com/tublian-open-source-internship-cohort2-a-path-to-software-development-mastery\")"
   ]
  },
  {
   "cell_type": "code",
   "execution_count": 24,
   "metadata": {},
   "outputs": [],
   "source": [
    "r.setupLLM(local=True)"
   ]
  },
  {
   "cell_type": "code",
   "execution_count": 25,
   "metadata": {},
   "outputs": [
    {
     "name": "stdout",
     "output_type": "stream",
     "text": [
      "invoking...\n",
      "The Open Source internship lasts for 30 days, starting on December 18th, 2023. Participants are expected to dedicate 6-8 hours a week to complete the tasks.\n",
      "Complete\n"
     ]
    }
   ],
   "source": [
    "a = r.invoke(\"How long is the Open Source internship?\")"
   ]
  },
  {
   "cell_type": "code",
   "execution_count": null,
   "metadata": {},
   "outputs": [],
   "source": []
  }
 ],
 "metadata": {
  "kernelspec": {
   "display_name": "learning",
   "language": "python",
   "name": "python3"
  },
  "language_info": {
   "codemirror_mode": {
    "name": "ipython",
    "version": 3
   },
   "file_extension": ".py",
   "mimetype": "text/x-python",
   "name": "python",
   "nbconvert_exporter": "python",
   "pygments_lexer": "ipython3",
   "version": "3.11.10"
  }
 },
 "nbformat": 4,
 "nbformat_minor": 2
}
