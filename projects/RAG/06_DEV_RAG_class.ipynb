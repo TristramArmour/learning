{
 "cells": [
  {
   "cell_type": "markdown",
   "metadata": {},
   "source": [
    "# RAG class"
   ]
  },
  {
   "cell_type": "code",
   "execution_count": 1,
   "metadata": {},
   "outputs": [
    {
     "data": {
      "text/plain": [
       "['C:\\\\workspace\\\\APIKEY_personal.ini']"
      ]
     },
     "execution_count": 1,
     "metadata": {},
     "output_type": "execute_result"
    }
   ],
   "source": [
    "import openai\n",
    "import pandas as pd\n",
    "from langchain_openai import AzureChatOpenAI\n",
    "import os\n",
    "from configparser import ConfigParser\n",
    "import shutil\n",
    "c = ConfigParser()\n",
    "c.read(r\"C:\\workspace\\APIKEY_personal.ini\")"
   ]
  },
  {
   "cell_type": "code",
   "execution_count": 2,
   "metadata": {},
   "outputs": [],
   "source": [
    "rag_config = {\n",
    "    \"api_key\":c[\"AZURE_4o-mini\"][\"API_KEY\"],\n",
    "    \"api_base\":c[\"AZURE_4o-mini\"][\"OPENAI_API_BASE\"],\n",
    "    \"api_version\":c[\"AZURE_4o-mini\"][\"OPENAI_API_VERSION\"],\n",
    "    \"deployment\": c[\"AZURE_4o-mini\"][\"CHATGPT_MODEL\"],\n",
    "    \"langsmith_key\": c[\"KEY\"][\"LANGSMITH_PERSONAL\"]\n",
    "}"
   ]
  },
  {
   "cell_type": "code",
   "execution_count": 3,
   "metadata": {},
   "outputs": [
    {
     "name": "stderr",
     "output_type": "stream",
     "text": [
      "c:\\Users\\TristramArmour\\anaconda3\\envs\\learning\\Lib\\site-packages\\pydantic\\_internal\\_fields.py:132: UserWarning: Field \"model_name\" in HuggingFaceInferenceAPIEmbeddings has conflict with protected namespace \"model_\".\n",
      "\n",
      "You may be able to resolve this warning by setting `model_config['protected_namespaces'] = ()`.\n",
      "  warnings.warn(\n",
      "USER_AGENT environment variable not set, consider setting it to identify your requests.\n"
     ]
    }
   ],
   "source": [
    "from langchain_community.embeddings import HuggingFaceEmbeddings\n",
    "from langchain_openai import AzureChatOpenAI,OpenAI\n",
    "from langchain.document_loaders import WebBaseLoader,PyPDFLoader\n",
    "from langchain_community.document_loaders.word_document import Docx2txtLoader\n",
    "from langchain.text_splitter import RecursiveCharacterTextSplitter\n",
    "from langchain_chroma import Chroma\n",
    "from langchain import hub\n",
    "from langchain_core.runnables import RunnablePassthrough\n",
    "from langchain.schema import StrOutputParser\n",
    "import shutil\n",
    "import os\n",
    "\n",
    "class RAG:\n",
    "    def __init__(self,project_name=\"default_name\",config=None,chromadb_folder=\"./chroma_db\",chunkSize=2000,overlap=200) -> None:\n",
    "        # save config settings to connect to Azure 4o-mini\n",
    "        self.config = config\n",
    "        # save project_name\n",
    "        self.project_name = project_name\n",
    "        # chromadb path\n",
    "        self.chromadb_folder = chromadb_folder\n",
    "        ###### some constants\n",
    "        # chunksize\n",
    "        self.chunksize = chunkSize\n",
    "        # overlap\n",
    "        self.overlap = overlap\n",
    "        # embedding model\n",
    "        # self.model_id = \"BAAI/bge-base-en-v1.5\" - although this is meant to be really good, doesn't really perform very well!\n",
    "        self.model_id = \"sentence-transformers/all-MiniLM-L6-v2\"\n",
    "        # Set USER_AGENT environment variable\n",
    "        os.environ[\"USER_AGENT\"] = \"myRAGClass/1.0 - \" + self.project_name\n",
    "        # set the openai api keys\n",
    "        os.environ[\"OPENAI_API_KEY\"] = self.config[\"api_key\"]\n",
    "        os.environ[\"OPENAI_API_VERSION\"] = self.config[\"api_version\"]\n",
    "        os.environ[\"AZURE_OPENAI_ENDPOINT\"] = self.config[\"api_base\"]\n",
    "\n",
    "        # create embedding function\n",
    "        self.createEmbeddingFunction()\n",
    "\n",
    "        # create reference to ChromaDB\n",
    "        self.vectorstore = Chroma(persist_directory=self.chromadb_folder, embedding_function=self.embedding_function)\n",
    "\n",
    "        # function to split the text into chuncks\n",
    "        self.text_splitter = RecursiveCharacterTextSplitter(chunk_size=self.chunksize, chunk_overlap=self.overlap)\n",
    "\n",
    "    @staticmethod\n",
    "    def format_docs(docs):\n",
    "        return \"\\n\\n\".join(doc.page_content for doc in docs)\n",
    "\n",
    "    def add_split_text(self,split_doc):\n",
    "        # Create a unique index on the chunks\n",
    "        last_page_id = None\n",
    "        current_chunk_index = 0\n",
    "\n",
    "        for chunk in split_doc:\n",
    "            source = chunk.metadata.get(\"source\")\n",
    "            page = chunk.metadata.get(\"page\")\n",
    "            if page == last_page_id:\n",
    "                current_chunk_index += 1\n",
    "            else:\n",
    "                current_chunk_index = 0\n",
    "            last_page_id = page\n",
    "\n",
    "            chunk_id = f\"{source}:{page}:{current_chunk_index}\"\n",
    "            # add chunk id\n",
    "            chunk.metadata[\"id\"] = chunk_id\n",
    "        \n",
    "        # add chunk if it does not exist\n",
    "        existing_items = self.vectorstore.get(include=[])\n",
    "        existing_ids = set(existing_items[\"ids\"])\n",
    "        print(f\"Number of existing documents in DB: {len(existing_ids)}\")\n",
    "\n",
    "        # only add documents that don't exist\n",
    "        new_chunks = []\n",
    "        for chunk in split_doc:\n",
    "            if chunk.metadata[\"id\"] not in existing_ids:\n",
    "                new_chunks.append(chunk)\n",
    "        new_chunk_ids = [chunk.metadata[\"id\"] for chunk in new_chunks]\n",
    "\n",
    "        if len(new_chunks) > 0:\n",
    "            self.vectorstore.add_documents(new_chunks,ids=new_chunk_ids)\n",
    "        else:\n",
    "            print(\"Document was in the database already\")\n",
    "\n",
    "\n",
    "    def add_documents(self,docs):\n",
    "        # loop through references, check whether it is a website, pdf or docx\n",
    "        for doc in docs:\n",
    "            if doc.lower().endswith(\".pdf\"):\n",
    "                self.add_pdf(doc)\n",
    "            elif doc.lower().endswith(\".docx\"):\n",
    "                self.add_docx(doc)\n",
    "            elif doc.startswith(\"http\"):\n",
    "                self.add_website(doc)\n",
    "            else:\n",
    "                # print out message that we couldn't add the document\n",
    "                print(f\"Could not add {doc} to the database\")\n",
    "        \n",
    "    def add_website(self,webpath):\n",
    "        # load website\n",
    "        loader = WebBaseLoader(web_paths=(webpath,))\n",
    "        loader.requests_kwargs = {\"verify\": False}\n",
    "        docs = loader.load()\n",
    "        # split the text into chuncks\n",
    "        splits = self.text_splitter.split_documents(docs)\n",
    "        # add the split text to the database\n",
    "        self.add_split_text(splits)\n",
    "        print(f\"Added {webpath} to the database\")\n",
    "\n",
    "    def add_pdf(self,pdfpath):\n",
    "        # load pdf\n",
    "        loader = PyPDFLoader(pdfpath)\n",
    "        doc = loader.load()\n",
    "        # split the text into chuncks\n",
    "        splits = self.text_splitter.split_documents(doc)\n",
    "        # add the split text to the database\n",
    "        self.add_split_text(splits)\n",
    "        print(f\"Added {pdfpath} to the database\")\n",
    "\n",
    "    def add_docx(self,filepath):\n",
    "        doc = Docx2txtLoader(filepath).load()\n",
    "        # split the text into chuncks\n",
    "        splits = self.text_splitter.split_documents(doc)\n",
    "        # add the split text to the database\n",
    "        self.add_split_text(splits)\n",
    "        print(f\"Added {filepath} to the database\")\n",
    "\n",
    "\n",
    "    def createEmbeddingFunction(self):\n",
    "        self.embedding_function = HuggingFaceEmbeddings(model_name=self.model_id, \n",
    "                                                        model_kwargs={'device': 'cpu',\n",
    "                                                                      \"trust_remote_code\":True},\n",
    "                                                        encode_kwargs = {\"max_seq_length\": 512})\n",
    "\n",
    "\n",
    "    def clearDatabase(self):\n",
    "        # remove the existing RAG database\n",
    "        shutil.rmtree(self.chromadb_folder)\n",
    "\n",
    "    def setupLLM(self,local=False,k=10):\n",
    "        self.prompt = hub.pull(\"rlm/rag-prompt\",api_key=self.config[\"langsmith_key\"])\n",
    "        self.k = k\n",
    "        # get retriever\n",
    "        self.retriever = self.vectorstore.as_retriever(k=self.k)\n",
    "        #self.retriever = self.vectorstore.as_retriever(search_type=\"mmr\", search_kwargs={\"k\": 20})\n",
    "\n",
    "        if local == True:\n",
    "            self.llm = OpenAI(base_url=\"http://localhost:1234/v1\", \n",
    "                              api_key=\"not-needed\",\n",
    "                              max_tokens=6000,\n",
    "                              temperature=0,\n",
    "                              max_retries=2)\n",
    "        else:\n",
    "            self.llm = AzureChatOpenAI(\n",
    "                deployment_name=self.config[\"deployment\"],\n",
    "                model_name=self.config[\"deployment\"], \n",
    "                temperature=0,\n",
    "                max_tokens=None,\n",
    "                timeout=None,\n",
    "                max_retries=2)\n",
    "\n",
    "        self.rag_chain = (\n",
    "            {\"context\": self.retriever | self.format_docs, \"question\": RunnablePassthrough()}\n",
    "            | self.prompt\n",
    "            | self.llm\n",
    "            | StrOutputParser())\n",
    "    \n",
    "    def invoke(self,question):\n",
    "        print(\"invoking...\")\n",
    "        result = self.rag_chain.invoke(question)\n",
    "        print(result)\n",
    "        print(\"Complete\")\n",
    "        return result\n"
   ]
  },
  {
   "cell_type": "markdown",
   "metadata": {},
   "source": [
    "Test website search"
   ]
  },
  {
   "cell_type": "code",
   "execution_count": 4,
   "metadata": {},
   "outputs": [
    {
     "name": "stderr",
     "output_type": "stream",
     "text": [
      "C:\\Users\\TristramArmour\\AppData\\Local\\Temp\\ipykernel_32588\\1868588418.py:129: LangChainDeprecationWarning: The class `HuggingFaceEmbeddings` was deprecated in LangChain 0.2.2 and will be removed in 1.0. An updated version of the class exists in the langchain-huggingface package and should be used instead. To use it run `pip install -U langchain-huggingface` and import as `from langchain_huggingface import HuggingFaceEmbeddings`.\n",
      "  self.embedding_function = HuggingFaceEmbeddings(model_name=self.model_id,\n",
      "c:\\Users\\TristramArmour\\anaconda3\\envs\\learning\\Lib\\site-packages\\sentence_transformers\\cross_encoder\\CrossEncoder.py:13: TqdmExperimentalWarning: Using `tqdm.autonotebook.tqdm` in notebook mode. Use `tqdm.tqdm` instead to force console mode (e.g. in jupyter console)\n",
      "  from tqdm.autonotebook import tqdm, trange\n",
      "c:\\Users\\TristramArmour\\anaconda3\\envs\\learning\\Lib\\site-packages\\huggingface_hub\\file_download.py:1142: FutureWarning: `resume_download` is deprecated and will be removed in version 1.0.0. Downloads always resume when possible. If you want to force a new download, use `force_download=True`.\n",
      "  warnings.warn(\n",
      "c:\\Users\\TristramArmour\\anaconda3\\envs\\learning\\Lib\\site-packages\\urllib3\\connectionpool.py:1099: InsecureRequestWarning: Unverified HTTPS request is being made to host 'gamefaqs.gamespot.com'. Adding certificate verification is strongly advised. See: https://urllib3.readthedocs.io/en/latest/advanced-usage.html#tls-warnings\n",
      "  warnings.warn(\n"
     ]
    },
    {
     "name": "stdout",
     "output_type": "stream",
     "text": [
      "Number of existing documents in DB: 0\n",
      "Added https://gamefaqs.gamespot.com/ds/937281-dragon-quest-ix-sentinels-of-the-starry-skies/faqs/60437 to the database\n"
     ]
    }
   ],
   "source": [
    "webpath = r\"https://gamefaqs.gamespot.com/ds/937281-dragon-quest-ix-sentinels-of-the-starry-skies/faqs/60437\"\n",
    "r = RAG(project_name=\"DQ9_walkthrough_test\",config=rag_config,chromadb_folder=\"./chroma_db_dq9\")\n",
    "r.add_documents([webpath])\n"
   ]
  },
  {
   "cell_type": "code",
   "execution_count": 5,
   "metadata": {},
   "outputs": [],
   "source": [
    "r.setupLLM(local=True)"
   ]
  },
  {
   "cell_type": "code",
   "execution_count": 6,
   "metadata": {},
   "outputs": [
    {
     "name": "stdout",
     "output_type": "stream",
     "text": [
      "invoking...\n",
      " I don't know how long it will take for someone to finish DQ9. The main story is about 35-40 hours, but the post-game content is very large and might take forever to finish everything.\n",
      "Complete\n"
     ]
    }
   ],
   "source": [
    "a = r.invoke(\"How long will it take for someone to finish DQ9?\")"
   ]
  },
  {
   "cell_type": "code",
   "execution_count": 7,
   "metadata": {},
   "outputs": [
    {
     "name": "stdout",
     "output_type": "stream",
     "text": [
      "invoking...\n",
      " To get the best weapons in DQ9, you should focus on purchasing items from the \"ITEM NAME\" column with the highest price. The top-priced items are likely to have higher stats and better effects. In this case, the top-priced items are Razor-wing Boomerang (9100 G), Potshot Bow (9200 G), and Blowy Bow (12000 G).\n",
      "Complete\n"
     ]
    }
   ],
   "source": [
    "a = r.invoke(\"How do I get the best weapons in DQ9?\")"
   ]
  },
  {
   "cell_type": "code",
   "execution_count": null,
   "metadata": {},
   "outputs": [],
   "source": []
  },
  {
   "cell_type": "code",
   "execution_count": 8,
   "metadata": {},
   "outputs": [],
   "source": [
    "del r"
   ]
  },
  {
   "cell_type": "markdown",
   "metadata": {},
   "source": [
    "#### Test RAG setup with DOCX"
   ]
  },
  {
   "cell_type": "code",
   "execution_count": 9,
   "metadata": {},
   "outputs": [
    {
     "name": "stderr",
     "output_type": "stream",
     "text": [
      "c:\\Users\\TristramArmour\\anaconda3\\envs\\learning\\Lib\\site-packages\\huggingface_hub\\file_download.py:1142: FutureWarning: `resume_download` is deprecated and will be removed in version 1.0.0. Downloads always resume when possible. If you want to force a new download, use `force_download=True`.\n",
      "  warnings.warn(\n"
     ]
    }
   ],
   "source": [
    "data_path = r\"C:\\Users\\TristramArmour\\OneDrive - Innovisk\\Documents\\BusinessDev\\AqPC_LLM_policydoc\\PRB ACOM9845_1 03.23.docx\"\n",
    "r = RAG(project_name=\"PolicyDoc\",config=rag_config,chromadb_folder=\"./chroma_db_policydoc\",chunkSize=2000,overlap=200)\n"
   ]
  },
  {
   "cell_type": "code",
   "execution_count": 10,
   "metadata": {},
   "outputs": [
    {
     "name": "stdout",
     "output_type": "stream",
     "text": [
      "Number of existing documents in DB: 0\n",
      "Added C:\\Users\\TristramArmour\\OneDrive - Innovisk\\Documents\\BusinessDev\\AqPC_LLM_policydoc\\PRB ACOM9845_1 03.23.docx to the database\n"
     ]
    }
   ],
   "source": [
    "r.add_docx(data_path)"
   ]
  },
  {
   "cell_type": "code",
   "execution_count": 11,
   "metadata": {},
   "outputs": [],
   "source": [
    "r.setupLLM(local=True)"
   ]
  },
  {
   "cell_type": "code",
   "execution_count": 12,
   "metadata": {},
   "outputs": [
    {
     "name": "stdout",
     "output_type": "stream",
     "text": [
      "invoking...\n",
      " No, this claim is not covered under the policy because it involves self-combustion of oily tea towels that had just been tumble dried, which is excluded under the condition precedent for Tumble Dryer usage.\n",
      "Complete\n"
     ]
    },
    {
     "data": {
      "text/plain": [
       "' No, this claim is not covered under the policy because it involves self-combustion of oily tea towels that had just been tumble dried, which is excluded under the condition precedent for Tumble Dryer usage.'"
      ]
     },
     "execution_count": 12,
     "metadata": {},
     "output_type": "execute_result"
    }
   ],
   "source": [
    "cd = \"\"\"A forensic investigation undertaken by Hawkins has concluded at this fried chicken restaurant the cause of the fire was the self-combustion of oily tea towels that had just been tumble dried.\"\"\"\n",
    "\n",
    "r.invoke(f\"Is this claim covered under the policy? '{cd}'\")"
   ]
  },
  {
   "cell_type": "markdown",
   "metadata": {},
   "source": [
    "We did it - we needed k to be qute large, say 10 and increase the chunksize to 2000 from the default 1000. We also used this embedding model - https://huggingface.co/sentence-transformers/all-MiniLM-L6-v2\n",
    "\n",
    "Also increased the max sequence length to 512 tokens, this relates to roughly 2000 characters which seems to be better for RAG applications."
   ]
  },
  {
   "cell_type": "code",
   "execution_count": null,
   "metadata": {},
   "outputs": [],
   "source": []
  },
  {
   "cell_type": "code",
   "execution_count": null,
   "metadata": {},
   "outputs": [],
   "source": []
  },
  {
   "cell_type": "code",
   "execution_count": null,
   "metadata": {},
   "outputs": [],
   "source": []
  },
  {
   "cell_type": "code",
   "execution_count": null,
   "metadata": {},
   "outputs": [],
   "source": []
  }
 ],
 "metadata": {
  "kernelspec": {
   "display_name": "learning",
   "language": "python",
   "name": "python3"
  },
  "language_info": {
   "codemirror_mode": {
    "name": "ipython",
    "version": 3
   },
   "file_extension": ".py",
   "mimetype": "text/x-python",
   "name": "python",
   "nbconvert_exporter": "python",
   "pygments_lexer": "ipython3",
   "version": "3.11.10"
  }
 },
 "nbformat": 4,
 "nbformat_minor": 2
}
