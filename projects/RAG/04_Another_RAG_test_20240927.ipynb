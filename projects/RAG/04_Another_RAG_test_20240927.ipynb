{
 "cells": [
  {
   "cell_type": "markdown",
   "metadata": {},
   "source": [
    "# This example works fully using my OPENAI apikey. Now we need to transfer it to use Azure OpenAI and we try to use our own embedding model. \n",
    "\n",
    "https://python.langchain.com/docs/integrations/chat/azure_chat_openai/\n",
    "\n",
    "- Change to hugging face\n",
    "- Add option for memory only vector db\n",
    "- change to Azure Chat\n",
    "\n",
    "https://www.analyticsvidhya.com/blog/2023/07/guide-to-chroma-db-a-vector-store-for-your-generative-ai-llms/\n",
    "https://www.reddit.com/r/LocalLLaMA/comments/18j39qt/what_embedding_models_are_you_using_for_rag/"
   ]
  },
  {
   "cell_type": "code",
   "execution_count": 2,
   "metadata": {},
   "outputs": [
    {
     "name": "stderr",
     "output_type": "stream",
     "text": [
      "c:\\Users\\TristramArmour\\anaconda3\\envs\\learning\\Lib\\site-packages\\urllib3\\connectionpool.py:1099: InsecureRequestWarning: Unverified HTTPS request is being made to host 'devlog.tublian.com'. Adding certificate verification is strongly advised. See: https://urllib3.readthedocs.io/en/latest/advanced-usage.html#tls-warnings\n",
      "  warnings.warn(\n"
     ]
    },
    {
     "name": "stdout",
     "output_type": "stream",
     "text": [
      "[Document(metadata={'source': 'https://devlog.tublian.com/tublian-open-source-internship-cohort2-a-path-to-software-development-mastery', 'title': 'Tublian Open Source Internship: A Path to Software Development Mastery', 'description': 'This is a detailed article on Tublian Open Source Internship and all it is about.', 'language': 'en'}, page_content='Tublian Open Source Internship: A Path to Software Development MasteryFollowFollowPhoto by Nick Fewings on UnsplashTublian Open Source Internship [Cohort2]: A Path to Software Development MasteryElevate Your Skills as an Emerging Software Developer!Ngwube Precious·Dec 11, 2023·6 min readAre you an emerging software developer looking to take your skills to the next level?\\nDo you want to contribute meaningfully to the world of Open Source while gaining invaluable real-world experience? If you answer yes, our 30-day OpenSource Internship program is just what you\\'ve been searching for.\\n\"In the past, contributing to OpenSource was a nice have, but now it is a must-have!\"\\nIn this comprehensive article, I will walk you through every aspect of the Tublian Open Source Internship.\\nAt Tublian, we are dedicated to helping you grow and take your career to the next level.\\nIntroduction\\nThe tech industry is pretty crowded these days, so you need something that makes you stand out to land a job. But there\\'s more to it.\\nOpen Source can be super helpful for software developers. It makes you unique, gives you real work experience, helps you learn new programming skills, and, most importantly, shows you how to contribute to existing code projects when starting out.\\nAt Tublian, we\\'ve seen that many developers struggle to get into the Open Source world, mainly because there is no structured curriculum-based approach to starting with Open source. That\\'s why, in line with our goal to help developers supercharge their careers and get noticed, we\\'ve launched a 30-day Open Source Internship.\\nHere are some testimonials from developers who went through the Internship:\\n\\nA sneak peak into the progress of my internship @tublian. I think so far, this has really helped me in understanding more about contributing to open source - @Blossomeze_\\nOne of the most significant highlights of my post-certification journey has been becoming a member of the Tublian community. Tublian is more than just a community; it\\'s a diverse, forward-thinking group of tech enthusiasts who share a common passion for innovation and collaboration.\" - @Ayo Hassan\\nHip Hurray! 🎉🚀I\\'d made my first contribution to an Open-Source project. Contributing to open-source is not rocket science. Achieve this with the help of @tublian. - @abellmanuell\\n\\nProgram Overview\\nOur program is designed for all developers, regardless of their skill level. However, there are some prerequisite skills we\\'ll discuss later on. Over the span of 30 days (starting December 18th, 2023), we\\'ll supply you with tasks, projects, and the necessary resources needed to complete these tasks. In addition, you\\'ll have the chance to meet and connect with industry experts and Open Source maintainers during our weekly check-in calls. This offers you valuable learning and networking opportunities.\\nPrerequisites\\n\\nWorking knowledge of Git/GitHub, check out our YouTube channel for our Git and GitHub masterclass.\\n\\nYou must know how to code in a particular programming language. All popular programming languages are welcome. (Java, Javascript, Python, etc)\\n\\nDedicate 6-8 hours a week to complete the tasks\\n\\n\\nOn Completion\\nCompleting our program is a badge of honor. Here\\'s what you can expect once you\\'ve completed the 30-day open-source Internship:\\n\\nSharable Certificate: Showcase your newfound skills with a certificate that reflects your commitment and achievements.\\n\\nStreet Cred: Boost your reputation in the developer community and gain recognition for your contributions.\\n\\nA customized sharable Tublian badge on your Tublian profile to make you stand out among other developers.\\n\\n\\nWhat You Will Learn\\nOur program is carefully curated to ensure that you gain valuable skills and knowledge that will set you up for success as an open-source developer:\\n\\nTechnical Expertise: You\\'ll learn to work with large codebases, navigate complex projects, and write high-quality code.\\n\\nTeam Collaboration: Discover the intricacies of working with distributed teams, an essential skill in today\\'s software development landscape.\\n\\nReal-World Experience: Get hands-on experience by actively contributing to open-source projects, tackling real-world challenges, and building a professional portfolio.\\n\\nNetworking: Connect with experienced developers and mentors who will guide your developer journey.\\n\\nEssential Skills: Throughout the program, you\\'ll develop skills in new coding techniques, best practices, problem-solving, and software architecture.\\n\\n\\nApplication Process\\nGetting started is simple. We\\'ve broken it down into three easy steps:\\nStep 1: Visit www.tublian.com/internship\\nStep 2: Complete the onboarding process\\nStep 3: Wait for an acceptance mail from us.\\nExtra-Curricular Activities\\nBeyond the structured curriculum, we offer additional opportunities to enhance your learning experience:\\nEvents/Masterclasses: We will have events and masterclasses where you will be taught extra skills needed to survive as a software engineer.\\nExpert Talks: We will bring in experts to give talks on different topics or tools you might need in your career.\\nWeekly community call: You can participate in the Tublian community call, where you will connect with other members and experts.\\nProgram Structure\\nNow, let\\'s break down the program week by week:\\nWeek 1: Learn About Open Source\\n\\nUnderstand the fundamentals of open Source and why it matters.\\n\\nDive into Git/GitHub and learn how to create a Pull Request.\\n\\nYour first contribution awaits! Start making meaningful changes to open-source projects.\\n\\n\\nWeek 2: Pick Up Your Community\\n\\nExplore the structure of open-source projects and their communities.\\n\\nLearn how to choose the right open-source project for your interests.\\n\\nDiscover the power of AI CoPilot for open-source developers.\\n\\nContribute by improving project documentation and providing valuable feedback.\\n\\n\\nWeek 3: Become a Helper\\n\\nGain insight into the role of an open-source maintainer.\\n\\nUnderstand the challenges of managing open-source projects and how to interact with maintainers.\\n\\nContribute by triaging issues and asking relevant questions.\\n\\n\\nWeek 4: Make Code Contributions\\n\\nTake on the challenge of learning a new and unfamiliar codebase.\\n\\nParticipate in a masterclass and make code changes.\\n\\nContribute to open-source projects by addressing good first issues and easy tasks.\\n\\n\\nResources\\nTublian Copilot: Your AI asistant\\nOur Copilot is an expert in OpenSource. This AI tool will be your go-to assistance. It can help you:\\n\\nFind answers: Copilot is hanging out on our discord channel to answer any question you have about Open Source\\n\\nFind the right project: Copilot finds projects that align with your expertise. 🔍\\n\\nSimplified Contribution: Let Copilot dissect issues for you, break them into manageable tasks, and guide every step of your contribution. 🛠\\n\\nConnect & Collaborate: Copilot handpicks fellow contributors, laying the foundation for teamwork and expanding your professional network. 🤝\\n\\n\\nOther resources for this program are:\\n\\nTublian Youtube channel\\n\\nWeekly resources on the internship page.\\n\\n\\nHow We Track Progress\\nTo ensure your success, we track your progress closely. Each week, you\\'ll complete tasks, receive feedback, and engage in weekly mentorship calls. Your completed tasks will be recorded for certificate and badge purposes.\\nConclusion\\nAre you ready to embark on a transformative journey into the world of Open Source? Our 30-day open-source Internship program is your ticket to gaining the skills, experience, and network you need to become a successful open-source developer.\\nJoin us on December 18th, 2023, and unlock your potential. Together, we\\'ll build a brighter future for open-source and software development.\\nOpen SourceGitHubtublianlearning\\xa0Share this')]\n",
      "tags=['Chroma', 'OpenAIEmbeddings'] vectorstore=<langchain_community.vectorstores.chroma.Chroma object at 0x000002ACB4645150> search_kwargs={}\n"
     ]
    },
    {
     "name": "stderr",
     "output_type": "stream",
     "text": [
      "c:\\Users\\TristramArmour\\anaconda3\\envs\\learning\\Lib\\site-packages\\langsmith\\client.py:323: LangSmithMissingAPIKeyWarning: API key must be provided when using hosted LangSmith API\n",
      "  warnings.warn(\n"
     ]
    },
    {
     "name": "stdout",
     "output_type": "stream",
     "text": [
      "invoking...\n",
      "The Open Source internship lasts for 30 days, starting on December 18th, 2023. Participants are expected to dedicate 6-8 hours a week to complete the tasks.\n",
      "invoking...1\n"
     ]
    }
   ],
   "source": [
    "import os\n",
    "import bs4\n",
    "from langchain import hub\n",
    "from langchain.chat_models import ChatOpenAI\n",
    "from langchain.document_loaders import WebBaseLoader\n",
    "from langchain.embeddings import OpenAIEmbeddings\n",
    "from langchain.schema import StrOutputParser\n",
    "from langchain.text_splitter import RecursiveCharacterTextSplitter\n",
    "from langchain.vectorstores import Chroma\n",
    "from langchain_core.runnables import RunnablePassthrough\n",
    "\n",
    "from configparser import ConfigParser\n",
    "\n",
    "c = ConfigParser()\n",
    "c.read(r\"C:\\workspace\\APIKEY_personal.ini\")\n",
    "\n",
    "os.environ[\"OPENAI_API_KEY\"] = c[\"KEY\"][\"OPENAI PERSONAL\"]\n",
    "\n",
    "loader = WebBaseLoader(\n",
    "    web_paths=(\n",
    "        \"https://devlog.tublian.com/tublian-open-source-internship-cohort2-a-path-to-software-development-mastery\",\n",
    "    ),\n",
    ")\n",
    "loader.requests_kwargs = {\"verify\": False}\n",
    "docs = loader.load()\n",
    "\n",
    "print(docs)\n",
    "\n",
    "text_splitter = RecursiveCharacterTextSplitter(chunk_size=1000, chunk_overlap=200)\n",
    "splits = text_splitter.split_documents(docs)\n",
    "\n",
    "vectorstore = Chroma.from_documents(\n",
    "    documents=splits, embedding=OpenAIEmbeddings(), persist_directory=\"./chroma_db\"\n",
    ")\n",
    "retriever = vectorstore.as_retriever()\n",
    "\n",
    "print(retriever)\n",
    "\n",
    "prompt = hub.pull(\"rlm/rag-prompt\")\n",
    "llm = ChatOpenAI(model_name=\"gpt-4o-mini\", temperature=0)\n",
    "\n",
    "\n",
    "def format_docs(docs):\n",
    "    return \"\\n\\n\".join(doc.page_content for doc in docs)\n",
    "\n",
    "\n",
    "rag_chain = (\n",
    "    {\"context\": retriever | format_docs, \"question\": RunnablePassthrough()}\n",
    "    | prompt\n",
    "    | llm\n",
    "    | StrOutputParser()\n",
    ")\n",
    "\n",
    "print(\"invoking...\")\n",
    "result = rag_chain.invoke(\"How long is the Open Source internship?\")\n",
    "print(result)\n",
    "print(\"invoking...1\")"
   ]
  },
  {
   "cell_type": "markdown",
   "metadata": {},
   "source": [
    "Change to new embedding"
   ]
  },
  {
   "cell_type": "code",
   "execution_count": 5,
   "metadata": {},
   "outputs": [
    {
     "name": "stderr",
     "output_type": "stream",
     "text": [
      "c:\\Users\\TristramArmour\\anaconda3\\envs\\learning\\Lib\\site-packages\\urllib3\\connectionpool.py:1099: InsecureRequestWarning: Unverified HTTPS request is being made to host 'devlog.tublian.com'. Adding certificate verification is strongly advised. See: https://urllib3.readthedocs.io/en/latest/advanced-usage.html#tls-warnings\n",
      "  warnings.warn(\n"
     ]
    },
    {
     "name": "stdout",
     "output_type": "stream",
     "text": [
      "[Document(metadata={'source': 'https://devlog.tublian.com/tublian-open-source-internship-cohort2-a-path-to-software-development-mastery', 'title': 'Tublian Open Source Internship: A Path to Software Development Mastery', 'description': 'This is a detailed article on Tublian Open Source Internship and all it is about.', 'language': 'en'}, page_content='Tublian Open Source Internship: A Path to Software Development MasteryFollowFollowPhoto by Nick Fewings on UnsplashTublian Open Source Internship [Cohort2]: A Path to Software Development MasteryElevate Your Skills as an Emerging Software Developer!Ngwube Precious·Dec 11, 2023·6 min readAre you an emerging software developer looking to take your skills to the next level?\\nDo you want to contribute meaningfully to the world of Open Source while gaining invaluable real-world experience? If you answer yes, our 30-day OpenSource Internship program is just what you\\'ve been searching for.\\n\"In the past, contributing to OpenSource was a nice have, but now it is a must-have!\"\\nIn this comprehensive article, I will walk you through every aspect of the Tublian Open Source Internship.\\nAt Tublian, we are dedicated to helping you grow and take your career to the next level.\\nIntroduction\\nThe tech industry is pretty crowded these days, so you need something that makes you stand out to land a job. But there\\'s more to it.\\nOpen Source can be super helpful for software developers. It makes you unique, gives you real work experience, helps you learn new programming skills, and, most importantly, shows you how to contribute to existing code projects when starting out.\\nAt Tublian, we\\'ve seen that many developers struggle to get into the Open Source world, mainly because there is no structured curriculum-based approach to starting with Open source. That\\'s why, in line with our goal to help developers supercharge their careers and get noticed, we\\'ve launched a 30-day Open Source Internship.\\nHere are some testimonials from developers who went through the Internship:\\n\\nA sneak peak into the progress of my internship @tublian. I think so far, this has really helped me in understanding more about contributing to open source - @Blossomeze_\\nOne of the most significant highlights of my post-certification journey has been becoming a member of the Tublian community. Tublian is more than just a community; it\\'s a diverse, forward-thinking group of tech enthusiasts who share a common passion for innovation and collaboration.\" - @Ayo Hassan\\nHip Hurray! 🎉🚀I\\'d made my first contribution to an Open-Source project. Contributing to open-source is not rocket science. Achieve this with the help of @tublian. - @abellmanuell\\n\\nProgram Overview\\nOur program is designed for all developers, regardless of their skill level. However, there are some prerequisite skills we\\'ll discuss later on. Over the span of 30 days (starting December 18th, 2023), we\\'ll supply you with tasks, projects, and the necessary resources needed to complete these tasks. In addition, you\\'ll have the chance to meet and connect with industry experts and Open Source maintainers during our weekly check-in calls. This offers you valuable learning and networking opportunities.\\nPrerequisites\\n\\nWorking knowledge of Git/GitHub, check out our YouTube channel for our Git and GitHub masterclass.\\n\\nYou must know how to code in a particular programming language. All popular programming languages are welcome. (Java, Javascript, Python, etc)\\n\\nDedicate 6-8 hours a week to complete the tasks\\n\\n\\nOn Completion\\nCompleting our program is a badge of honor. Here\\'s what you can expect once you\\'ve completed the 30-day open-source Internship:\\n\\nSharable Certificate: Showcase your newfound skills with a certificate that reflects your commitment and achievements.\\n\\nStreet Cred: Boost your reputation in the developer community and gain recognition for your contributions.\\n\\nA customized sharable Tublian badge on your Tublian profile to make you stand out among other developers.\\n\\n\\nWhat You Will Learn\\nOur program is carefully curated to ensure that you gain valuable skills and knowledge that will set you up for success as an open-source developer:\\n\\nTechnical Expertise: You\\'ll learn to work with large codebases, navigate complex projects, and write high-quality code.\\n\\nTeam Collaboration: Discover the intricacies of working with distributed teams, an essential skill in today\\'s software development landscape.\\n\\nReal-World Experience: Get hands-on experience by actively contributing to open-source projects, tackling real-world challenges, and building a professional portfolio.\\n\\nNetworking: Connect with experienced developers and mentors who will guide your developer journey.\\n\\nEssential Skills: Throughout the program, you\\'ll develop skills in new coding techniques, best practices, problem-solving, and software architecture.\\n\\n\\nApplication Process\\nGetting started is simple. We\\'ve broken it down into three easy steps:\\nStep 1: Visit www.tublian.com/internship\\nStep 2: Complete the onboarding process\\nStep 3: Wait for an acceptance mail from us.\\nExtra-Curricular Activities\\nBeyond the structured curriculum, we offer additional opportunities to enhance your learning experience:\\nEvents/Masterclasses: We will have events and masterclasses where you will be taught extra skills needed to survive as a software engineer.\\nExpert Talks: We will bring in experts to give talks on different topics or tools you might need in your career.\\nWeekly community call: You can participate in the Tublian community call, where you will connect with other members and experts.\\nProgram Structure\\nNow, let\\'s break down the program week by week:\\nWeek 1: Learn About Open Source\\n\\nUnderstand the fundamentals of open Source and why it matters.\\n\\nDive into Git/GitHub and learn how to create a Pull Request.\\n\\nYour first contribution awaits! Start making meaningful changes to open-source projects.\\n\\n\\nWeek 2: Pick Up Your Community\\n\\nExplore the structure of open-source projects and their communities.\\n\\nLearn how to choose the right open-source project for your interests.\\n\\nDiscover the power of AI CoPilot for open-source developers.\\n\\nContribute by improving project documentation and providing valuable feedback.\\n\\n\\nWeek 3: Become a Helper\\n\\nGain insight into the role of an open-source maintainer.\\n\\nUnderstand the challenges of managing open-source projects and how to interact with maintainers.\\n\\nContribute by triaging issues and asking relevant questions.\\n\\n\\nWeek 4: Make Code Contributions\\n\\nTake on the challenge of learning a new and unfamiliar codebase.\\n\\nParticipate in a masterclass and make code changes.\\n\\nContribute to open-source projects by addressing good first issues and easy tasks.\\n\\n\\nResources\\nTublian Copilot: Your AI asistant\\nOur Copilot is an expert in OpenSource. This AI tool will be your go-to assistance. It can help you:\\n\\nFind answers: Copilot is hanging out on our discord channel to answer any question you have about Open Source\\n\\nFind the right project: Copilot finds projects that align with your expertise. 🔍\\n\\nSimplified Contribution: Let Copilot dissect issues for you, break them into manageable tasks, and guide every step of your contribution. 🛠\\n\\nConnect & Collaborate: Copilot handpicks fellow contributors, laying the foundation for teamwork and expanding your professional network. 🤝\\n\\n\\nOther resources for this program are:\\n\\nTublian Youtube channel\\n\\nWeekly resources on the internship page.\\n\\n\\nHow We Track Progress\\nTo ensure your success, we track your progress closely. Each week, you\\'ll complete tasks, receive feedback, and engage in weekly mentorship calls. Your completed tasks will be recorded for certificate and badge purposes.\\nConclusion\\nAre you ready to embark on a transformative journey into the world of Open Source? Our 30-day open-source Internship program is your ticket to gaining the skills, experience, and network you need to become a successful open-source developer.\\nJoin us on December 18th, 2023, and unlock your potential. Together, we\\'ll build a brighter future for open-source and software development.\\nOpen SourceGitHubtublianlearning\\xa0Share this')]\n"
     ]
    },
    {
     "name": "stderr",
     "output_type": "stream",
     "text": [
      "c:\\Users\\TristramArmour\\anaconda3\\envs\\learning\\Lib\\site-packages\\huggingface_hub\\file_download.py:1142: FutureWarning: `resume_download` is deprecated and will be removed in version 1.0.0. Downloads always resume when possible. If you want to force a new download, use `force_download=True`.\n",
      "  warnings.warn(\n"
     ]
    },
    {
     "name": "stdout",
     "output_type": "stream",
     "text": [
      "tags=['Chroma', 'HuggingFaceEmbeddings'] vectorstore=<langchain_community.vectorstores.chroma.Chroma object at 0x000002606B271850> search_kwargs={}\n",
      "invoking...\n",
      "The Open Source internship lasts for 30 days, starting on December 18th, 2023. Participants are expected to dedicate 6-8 hours a week to complete the tasks.\n",
      "invoking...1\n"
     ]
    }
   ],
   "source": [
    "import os\n",
    "import bs4\n",
    "from langchain import hub\n",
    "from langchain.chat_models import ChatOpenAI\n",
    "from langchain.document_loaders import WebBaseLoader\n",
    "from langchain.embeddings import OpenAIEmbeddings\n",
    "from langchain.schema import StrOutputParser\n",
    "from langchain.text_splitter import RecursiveCharacterTextSplitter\n",
    "from langchain.vectorstores import Chroma\n",
    "from langchain_core.runnables import RunnablePassthrough\n",
    "from langchain_community.embeddings import HuggingFaceEmbeddings\n",
    "\n",
    "from configparser import ConfigParser\n",
    "\n",
    "c = ConfigParser()\n",
    "c.read(r\"C:\\workspace\\APIKEY_personal.ini\")\n",
    "\n",
    "os.environ[\"OPENAI_API_KEY\"] = c[\"KEY\"][\"OPENAI_PERSONAL\"]\n",
    "os.environ[\"LANGCHAIN_API_KEY\"] = c[\"KEY\"][\"LANGSMITH_PERSONAL\"]\n",
    "\n",
    "loader = WebBaseLoader(\n",
    "    web_paths=(\n",
    "        \"https://devlog.tublian.com/tublian-open-source-internship-cohort2-a-path-to-software-development-mastery\",\n",
    "    ),\n",
    ")\n",
    "loader.requests_kwargs = {\"verify\": False}\n",
    "docs = loader.load()\n",
    "\n",
    "print(docs)\n",
    "\n",
    "text_splitter = RecursiveCharacterTextSplitter(chunk_size=1000, chunk_overlap=200)\n",
    "splits = text_splitter.split_documents(docs)\n",
    "\n",
    "model_id = \"BAAI/bge-small-en-v1.5\"\n",
    "embedding_function = HuggingFaceEmbeddings(model_name=model_id, model_kwargs={'device': 'cpu'})\n",
    "\n",
    "\n",
    "vectorstore = Chroma.from_documents(\n",
    "    documents=splits, embedding=embedding_function, persist_directory=\"./chroma_db\"\n",
    ")\n",
    "retriever = vectorstore.as_retriever()\n",
    "\n",
    "print(retriever)\n",
    "\n",
    "prompt = hub.pull(\"rlm/rag-prompt\",api_key=c[\"KEY\"][\"LANGSMITH_PERSONAL\"])\n",
    "llm = ChatOpenAI(model_name=\"gpt-4o-mini\", temperature=0)\n",
    "\n",
    "\n",
    "def format_docs(docs):\n",
    "    return \"\\n\\n\".join(doc.page_content for doc in docs)\n",
    "\n",
    "\n",
    "rag_chain = (\n",
    "    {\"context\": retriever | format_docs, \"question\": RunnablePassthrough()}\n",
    "    | prompt\n",
    "    | llm\n",
    "    | StrOutputParser()\n",
    ")\n",
    "\n",
    "print(\"invoking...\")\n",
    "result = rag_chain.invoke(\"How long is the Open Source internship?\")\n",
    "print(result)\n",
    "print(\"invoking...1\")"
   ]
  },
  {
   "cell_type": "markdown",
   "metadata": {},
   "source": [
    "Let's see if we can use Azure Chat"
   ]
  },
  {
   "cell_type": "code",
   "execution_count": null,
   "metadata": {},
   "outputs": [],
   "source": [
    "import os\n",
    "import bs4\n",
    "from langchain import hub\n",
    "from langchain.chat_models import ChatOpenAI\n",
    "from langchain.document_loaders import WebBaseLoader\n",
    "from langchain.embeddings import OpenAIEmbeddings\n",
    "from langchain.schema import StrOutputParser\n",
    "from langchain.text_splitter import RecursiveCharacterTextSplitter\n",
    "from langchain.vectorstores import Chroma\n",
    "from langchain_core.runnables import RunnablePassthrough\n",
    "from langchain_community.embeddings import HuggingFaceEmbeddings\n",
    "\n",
    "from configparser import ConfigParser\n",
    "\n",
    "c = ConfigParser()\n",
    "c.read(r\"C:\\workspace\\APIKEY_personal.ini\")\n",
    "\n",
    "os.environ[\"OPENAI_API_KEY\"] = c[\"KEY\"][\"OPENAI_PERSONAL\"]\n",
    "os.environ[\"LANGCHAIN_API_KEY\"] = c[\"KEY\"][\"LANGSMITH_PERSONAL\"]\n",
    "\n",
    "loader = WebBaseLoader(\n",
    "    web_paths=(\n",
    "        \"https://devlog.tublian.com/tublian-open-source-internship-cohort2-a-path-to-software-development-mastery\",\n",
    "    ),\n",
    ")\n",
    "loader.requests_kwargs = {\"verify\": False}\n",
    "docs = loader.load()\n",
    "\n",
    "print(docs)\n",
    "\n",
    "text_splitter = RecursiveCharacterTextSplitter(chunk_size=1000, chunk_overlap=200)\n",
    "splits = text_splitter.split_documents(docs)\n",
    "\n",
    "model_id = \"BAAI/bge-small-en-v1.5\"\n",
    "embedding_function = HuggingFaceEmbeddings(model_name=model_id, model_kwargs={'device': 'cpu'})\n",
    "\n",
    "\n",
    "vectorstore = Chroma.from_documents(\n",
    "    documents=splits, embedding=embedding_function, persist_directory=\"./chroma_db\"\n",
    ")\n",
    "retriever = vectorstore.as_retriever()\n",
    "\n",
    "print(retriever)\n",
    "\n",
    "prompt = hub.pull(\"rlm/rag-prompt\",api_key=c[\"KEY\"][\"LANGSMITH_PERSONAL\"])\n",
    "llm = ChatOpenAI(model_name=\"gpt-4o-mini\", temperature=0)\n",
    "\n",
    "\n",
    "def format_docs(docs):\n",
    "    return \"\\n\\n\".join(doc.page_content for doc in docs)\n",
    "\n",
    "\n",
    "rag_chain = (\n",
    "    {\"context\": retriever | format_docs, \"question\": RunnablePassthrough()}\n",
    "    | prompt\n",
    "    | llm\n",
    "    | StrOutputParser()\n",
    ")\n",
    "\n",
    "print(\"invoking...\")\n",
    "result = rag_chain.invoke(\"How long is the Open Source internship?\")\n",
    "print(result)\n",
    "print(\"invoking...1\")"
   ]
  },
  {
   "cell_type": "code",
   "execution_count": null,
   "metadata": {},
   "outputs": [],
   "source": []
  },
  {
   "cell_type": "code",
   "execution_count": null,
   "metadata": {},
   "outputs": [],
   "source": []
  }
 ],
 "metadata": {
  "kernelspec": {
   "display_name": "learning",
   "language": "python",
   "name": "python3"
  },
  "language_info": {
   "codemirror_mode": {
    "name": "ipython",
    "version": 3
   },
   "file_extension": ".py",
   "mimetype": "text/x-python",
   "name": "python",
   "nbconvert_exporter": "python",
   "pygments_lexer": "ipython3",
   "version": "3.11.10"
  }
 },
 "nbformat": 4,
 "nbformat_minor": 2
}
